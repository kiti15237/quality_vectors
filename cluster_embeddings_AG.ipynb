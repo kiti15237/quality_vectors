{
 "cells": [
  {
   "cell_type": "code",
   "execution_count": 2,
   "metadata": {},
   "outputs": [
    {
     "name": "stdout",
     "output_type": "stream",
     "text": [
      "Original data dimensions\n",
      "Taxa: 9162  Samples: 15475\n"
     ]
    },
    {
     "name": "stderr",
     "output_type": "stream",
     "text": [
      "C:\\Users\\ctata\\Miniconda3\\envs\\tensorflow\\lib\\site-packages\\IPython\\core\\interactiveshell.py:2903: DtypeWarning: Columns (0) have mixed types. Specify dtype option on import or set low_memory=False.\n",
      "  if self.run_code(code, result):\n",
      "C:\\Users\\ctata\\Documents\\Lab\\quality_vectors\\helper_functions.py:36: FutureWarning: elementwise comparison failed; returning scalar instead, but in the future will perform elementwise comparison\n",
      "  qual_vecs_clean = qual_vecs.loc[[i in otu_clean.index.values for i in qual_vecs.index.values]] #keep taxa if present in otu\n"
     ]
    },
    {
     "name": "stdout",
     "output_type": "stream",
     "text": [
      "Filter for taxa present in embeddings\n",
      "Taxa: 6144  Samples: 15475\n"
     ]
    },
    {
     "name": "stderr",
     "output_type": "stream",
     "text": [
      "C:\\Users\\ctata\\Miniconda3\\envs\\tensorflow\\lib\\site-packages\\IPython\\core\\interactiveshell.py:2903: DtypeWarning: Columns (0,81) have mixed types. Specify dtype option on import or set low_memory=False.\n",
      "  if self.run_code(code, result):\n",
      "C:\\Users\\ctata\\Documents\\Lab\\quality_vectors\\helper_functions.py:43: FutureWarning: \n",
      "Passing list-likes to .loc or [] with any missing label will raise\n",
      "KeyError in the future, you can use .reindex() as an alternative.\n",
      "\n",
      "See the documentation here:\n",
      "https://pandas.pydata.org/pandas-docs/stable/indexing.html#deprecate-loc-reindex-listlike\n",
      "  map_clean = mapping.loc[otu_clean.columns.values] #Keep samples if present in otu\n"
     ]
    },
    {
     "name": "stdout",
     "output_type": "stream",
     "text": [
      "Samples originally: 15475\n",
      "Samples after categorical filter: 11645\n",
      "Samples after numerical filter: 6447\n",
      "Filter for desired metadata present\n",
      "Samples: 6447  Taxa: 6144\n",
      "(5550, 6144)\n",
      "(5550, 17)\n",
      "(897, 6144)\n",
      "(897, 17)\n"
     ]
    }
   ],
   "source": [
    "import pandas as pd\n",
    "import numpy as np\n",
    "import helper_functions as hf\n",
    "import pickle\n",
    "import matplotlib.pyplot as plt\n",
    "from sklearn import preprocessing\n",
    "import importlib\n",
    "importlib.reload(hf)\n",
    "import math\n",
    "import copy\n",
    "\n",
    "\n",
    "number_criteria = [\"BMI\", \"AGE_CORRECTED\"]\n",
    "cat_criteria = [\"EXERCISE_FREQUENCY\", \"SEX\", \"DOG\", \"ONE_LITER_OF_WATER_A_DAY_FREQUENCY\", \n",
    "        \"SEAFOOD_FREQUENCY\", \"PROBIOTIC_FREQUENCY\", \"OLIVE_OIL\", \"FRUIT_FREQUENCY\", \n",
    "         \"SLEEP_DURATION\", \"SUGAR_SWEETENED_DRINK_FREQUENCY\", \"MILK_CHEESE_FREQUENCY\",\n",
    "         \"RED_MEAT_FREQUENCY\",\"MEAT_EGGS_FREQUENCY\", \"VEGETABLE_FREQUENCY\", \"BODY_SITE\"]\n",
    "otu_file = \"data/AG_new/feces/otu_filtered_AG_07perc_feces.csv\"\n",
    "mapping_file = \"data/AG_new/AG_mapping.txt\"\n",
    "qual_vec_file = \"data/AG_new/feces/glove_emb_AG_new07perc_feces_500.txt\"\n",
    "test_samples_file = \"data/AG_new/feces/AG_test_samples_feces.obj\"\n",
    "otu_train, otu_test, qual_vecs, map_train, map_test = hf.getDataAG(otu_file, mapping_file, qual_vec_file, test_samples_file,\n",
    "                                                                   number_criteria, cat_criteria)"
   ]
  },
  {
   "cell_type": "code",
   "execution_count": null,
   "metadata": {},
   "outputs": [],
   "source": []
  }
 ],
 "metadata": {
  "kernelspec": {
   "display_name": "Python 3",
   "language": "python",
   "name": "python3"
  },
  "language_info": {
   "codemirror_mode": {
    "name": "ipython",
    "version": 3
   },
   "file_extension": ".py",
   "mimetype": "text/x-python",
   "name": "python",
   "nbconvert_exporter": "python",
   "pygments_lexer": "ipython3",
   "version": "3.5.5"
  }
 },
 "nbformat": 4,
 "nbformat_minor": 2
}
