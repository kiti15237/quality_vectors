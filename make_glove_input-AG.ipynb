{
 "cells": [
  {
   "cell_type": "code",
   "execution_count": 1,
   "metadata": {},
   "outputs": [],
   "source": [
    "import pandas as pd\n",
    "\n",
    "from pandas import DataFrame as df\n",
    "import numpy as np\n",
    "import csv\n",
    "import pickle\n"
   ]
  },
  {
   "cell_type": "code",
   "execution_count": 2,
   "metadata": {},
   "outputs": [
    {
     "name": "stdout",
     "output_type": "stream",
     "text": [
      "(35511, 19491)\n"
     ]
    }
   ],
   "source": [
    "otu = pd.read_csv('data/AG_new/otu_table.txt', sep = '\\t', index_col = 0)\n",
    "print(otu.shape)"
   ]
  },
  {
   "cell_type": "code",
   "execution_count": 31,
   "metadata": {},
   "outputs": [
    {
     "data": {
      "text/html": [
       "<div>\n",
       "<style scoped>\n",
       "    .dataframe tbody tr th:only-of-type {\n",
       "        vertical-align: middle;\n",
       "    }\n",
       "\n",
       "    .dataframe tbody tr th {\n",
       "        vertical-align: top;\n",
       "    }\n",
       "\n",
       "    .dataframe thead th {\n",
       "        text-align: right;\n",
       "    }\n",
       "</style>\n",
       "<table border=\"1\" class=\"dataframe\">\n",
       "  <thead>\n",
       "    <tr style=\"text-align: right;\">\n",
       "      <th></th>\n",
       "      <th>10317.000034640</th>\n",
       "      <th>10317.000063422</th>\n",
       "      <th>10317.000063446</th>\n",
       "      <th>10317.000005636</th>\n",
       "      <th>10317.000005637</th>\n",
       "      <th>10317.000005634</th>\n",
       "      <th>10317.000007117</th>\n",
       "      <th>10317.000005221</th>\n",
       "      <th>10317.000005598</th>\n",
       "      <th>10317.000007346</th>\n",
       "      <th>...</th>\n",
       "      <th>10317.000006824</th>\n",
       "      <th>10317.BLANK199.4H.r43</th>\n",
       "      <th>10317.BLANK107.r9</th>\n",
       "      <th>10317.000018049</th>\n",
       "      <th>10317.BLANK199.4D.r43</th>\n",
       "      <th>10317.BLANK127.3D.r28</th>\n",
       "      <th>10317.000013550</th>\n",
       "      <th>10317.BLANK.7.F.r9</th>\n",
       "      <th>10317.Blank33.F12.r6</th>\n",
       "      <th>10317.BLANK.AG80.12G.r20</th>\n",
       "    </tr>\n",
       "    <tr>\n",
       "      <th>OTUID</th>\n",
       "      <th></th>\n",
       "      <th></th>\n",
       "      <th></th>\n",
       "      <th></th>\n",
       "      <th></th>\n",
       "      <th></th>\n",
       "      <th></th>\n",
       "      <th></th>\n",
       "      <th></th>\n",
       "      <th></th>\n",
       "      <th></th>\n",
       "      <th></th>\n",
       "      <th></th>\n",
       "      <th></th>\n",
       "      <th></th>\n",
       "      <th></th>\n",
       "      <th></th>\n",
       "      <th></th>\n",
       "      <th></th>\n",
       "      <th></th>\n",
       "      <th></th>\n",
       "    </tr>\n",
       "  </thead>\n",
       "  <tbody>\n",
       "    <tr>\n",
       "      <th>4479946</th>\n",
       "      <td>5.0</td>\n",
       "      <td>1.0</td>\n",
       "      <td>1.0</td>\n",
       "      <td>0.0</td>\n",
       "      <td>0.0</td>\n",
       "      <td>0.0</td>\n",
       "      <td>0.0</td>\n",
       "      <td>0.0</td>\n",
       "      <td>0.0</td>\n",
       "      <td>0.0</td>\n",
       "      <td>...</td>\n",
       "      <td>0.0</td>\n",
       "      <td>0.0</td>\n",
       "      <td>0.0</td>\n",
       "      <td>0.0</td>\n",
       "      <td>0.0</td>\n",
       "      <td>0.0</td>\n",
       "      <td>0.0</td>\n",
       "      <td>0.0</td>\n",
       "      <td>0.0</td>\n",
       "      <td>0.0</td>\n",
       "    </tr>\n",
       "    <tr>\n",
       "      <th>988534</th>\n",
       "      <td>0.0</td>\n",
       "      <td>0.0</td>\n",
       "      <td>0.0</td>\n",
       "      <td>3.0</td>\n",
       "      <td>1.0</td>\n",
       "      <td>18.0</td>\n",
       "      <td>1.0</td>\n",
       "      <td>0.0</td>\n",
       "      <td>0.0</td>\n",
       "      <td>0.0</td>\n",
       "      <td>...</td>\n",
       "      <td>0.0</td>\n",
       "      <td>0.0</td>\n",
       "      <td>0.0</td>\n",
       "      <td>0.0</td>\n",
       "      <td>0.0</td>\n",
       "      <td>0.0</td>\n",
       "      <td>0.0</td>\n",
       "      <td>0.0</td>\n",
       "      <td>0.0</td>\n",
       "      <td>0.0</td>\n",
       "    </tr>\n",
       "    <tr>\n",
       "      <th>4479944</th>\n",
       "      <td>0.0</td>\n",
       "      <td>0.0</td>\n",
       "      <td>6.0</td>\n",
       "      <td>0.0</td>\n",
       "      <td>0.0</td>\n",
       "      <td>0.0</td>\n",
       "      <td>0.0</td>\n",
       "      <td>1.0</td>\n",
       "      <td>13.0</td>\n",
       "      <td>8.0</td>\n",
       "      <td>...</td>\n",
       "      <td>0.0</td>\n",
       "      <td>0.0</td>\n",
       "      <td>0.0</td>\n",
       "      <td>0.0</td>\n",
       "      <td>0.0</td>\n",
       "      <td>0.0</td>\n",
       "      <td>0.0</td>\n",
       "      <td>0.0</td>\n",
       "      <td>0.0</td>\n",
       "      <td>0.0</td>\n",
       "    </tr>\n",
       "    <tr>\n",
       "      <th>370251</th>\n",
       "      <td>0.0</td>\n",
       "      <td>0.0</td>\n",
       "      <td>0.0</td>\n",
       "      <td>0.0</td>\n",
       "      <td>0.0</td>\n",
       "      <td>0.0</td>\n",
       "      <td>0.0</td>\n",
       "      <td>0.0</td>\n",
       "      <td>0.0</td>\n",
       "      <td>0.0</td>\n",
       "      <td>...</td>\n",
       "      <td>0.0</td>\n",
       "      <td>0.0</td>\n",
       "      <td>0.0</td>\n",
       "      <td>0.0</td>\n",
       "      <td>0.0</td>\n",
       "      <td>0.0</td>\n",
       "      <td>0.0</td>\n",
       "      <td>0.0</td>\n",
       "      <td>0.0</td>\n",
       "      <td>0.0</td>\n",
       "    </tr>\n",
       "    <tr>\n",
       "      <th>741867</th>\n",
       "      <td>0.0</td>\n",
       "      <td>1.0</td>\n",
       "      <td>0.0</td>\n",
       "      <td>0.0</td>\n",
       "      <td>0.0</td>\n",
       "      <td>0.0</td>\n",
       "      <td>0.0</td>\n",
       "      <td>0.0</td>\n",
       "      <td>6.0</td>\n",
       "      <td>0.0</td>\n",
       "      <td>...</td>\n",
       "      <td>0.0</td>\n",
       "      <td>0.0</td>\n",
       "      <td>0.0</td>\n",
       "      <td>0.0</td>\n",
       "      <td>0.0</td>\n",
       "      <td>0.0</td>\n",
       "      <td>0.0</td>\n",
       "      <td>0.0</td>\n",
       "      <td>0.0</td>\n",
       "      <td>0.0</td>\n",
       "    </tr>\n",
       "  </tbody>\n",
       "</table>\n",
       "<p>5 rows × 19491 columns</p>\n",
       "</div>"
      ],
      "text/plain": [
       "         10317.000034640  10317.000063422  10317.000063446  10317.000005636  \\\n",
       "OTUID                                                                         \n",
       "4479946              5.0              1.0              1.0              0.0   \n",
       "988534               0.0              0.0              0.0              3.0   \n",
       "4479944              0.0              0.0              6.0              0.0   \n",
       "370251               0.0              0.0              0.0              0.0   \n",
       "741867               0.0              1.0              0.0              0.0   \n",
       "\n",
       "         10317.000005637  10317.000005634  10317.000007117  10317.000005221  \\\n",
       "OTUID                                                                         \n",
       "4479946              0.0              0.0              0.0              0.0   \n",
       "988534               1.0             18.0              1.0              0.0   \n",
       "4479944              0.0              0.0              0.0              1.0   \n",
       "370251               0.0              0.0              0.0              0.0   \n",
       "741867               0.0              0.0              0.0              0.0   \n",
       "\n",
       "         10317.000005598  10317.000007346            ...             \\\n",
       "OTUID                                                ...              \n",
       "4479946              0.0              0.0            ...              \n",
       "988534               0.0              0.0            ...              \n",
       "4479944             13.0              8.0            ...              \n",
       "370251               0.0              0.0            ...              \n",
       "741867               6.0              0.0            ...              \n",
       "\n",
       "         10317.000006824  10317.BLANK199.4H.r43  10317.BLANK107.r9  \\\n",
       "OTUID                                                                \n",
       "4479946              0.0                    0.0                0.0   \n",
       "988534               0.0                    0.0                0.0   \n",
       "4479944              0.0                    0.0                0.0   \n",
       "370251               0.0                    0.0                0.0   \n",
       "741867               0.0                    0.0                0.0   \n",
       "\n",
       "         10317.000018049  10317.BLANK199.4D.r43  10317.BLANK127.3D.r28  \\\n",
       "OTUID                                                                    \n",
       "4479946              0.0                    0.0                    0.0   \n",
       "988534               0.0                    0.0                    0.0   \n",
       "4479944              0.0                    0.0                    0.0   \n",
       "370251               0.0                    0.0                    0.0   \n",
       "741867               0.0                    0.0                    0.0   \n",
       "\n",
       "         10317.000013550  10317.BLANK.7.F.r9  10317.Blank33.F12.r6  \\\n",
       "OTUID                                                                \n",
       "4479946              0.0                 0.0                   0.0   \n",
       "988534               0.0                 0.0                   0.0   \n",
       "4479944              0.0                 0.0                   0.0   \n",
       "370251               0.0                 0.0                   0.0   \n",
       "741867               0.0                 0.0                   0.0   \n",
       "\n",
       "         10317.BLANK.AG80.12G.r20  \n",
       "OTUID                              \n",
       "4479946                       0.0  \n",
       "988534                        0.0  \n",
       "4479944                       0.0  \n",
       "370251                        0.0  \n",
       "741867                        0.0  \n",
       "\n",
       "[5 rows x 19491 columns]"
      ]
     },
     "execution_count": 31,
     "metadata": {},
     "output_type": "execute_result"
    }
   ],
   "source": [
    "otu.head()"
   ]
  },
  {
   "cell_type": "code",
   "execution_count": 3,
   "metadata": {},
   "outputs": [],
   "source": [
    "#Throw samples with less than 5000 reads\n",
    "sample_sums = np.sum(otu, axis = 0)"
   ]
  },
  {
   "cell_type": "code",
   "execution_count": 4,
   "metadata": {},
   "outputs": [
    {
     "name": "stdout",
     "output_type": "stream",
     "text": [
      "(35511, 15475)\n"
     ]
    }
   ],
   "source": [
    "otu_filter = otu.loc[:, sample_sums > 5000]\n",
    "print(otu_filter.shape)"
   ]
  },
  {
   "cell_type": "code",
   "execution_count": 5,
   "metadata": {},
   "outputs": [
    {
     "name": "stdout",
     "output_type": "stream",
     "text": [
      "(35275, 15475)\n"
     ]
    }
   ],
   "source": [
    "taxa_sums = np.sum(otu_filter, axis = 1)\n",
    "otu_filter = otu_filter.loc[taxa_sums > 0, :]\n",
    "print(otu_filter.shape)"
   ]
  },
  {
   "cell_type": "code",
   "execution_count": 6,
   "metadata": {},
   "outputs": [
    {
     "name": "stderr",
     "output_type": "stream",
     "text": [
      "C:\\Users\\ctata\\Miniconda3\\envs\\tensorflow\\lib\\site-packages\\IPython\\core\\interactiveshell.py:2785: DtypeWarning: Columns (0,81) have mixed types. Specify dtype option on import or set low_memory=False.\n",
      "  interactivity=interactivity, compiler=compiler, result=result)\n",
      "C:\\Users\\ctata\\Miniconda3\\envs\\tensorflow\\lib\\site-packages\\ipykernel_launcher.py:3: FutureWarning: \n",
      "Passing list-likes to .loc or [] with any missing label will raise\n",
      "KeyError in the future, you can use .reindex() as an alternative.\n",
      "\n",
      "See the documentation here:\n",
      "https://pandas.pydata.org/pandas-docs/stable/indexing.html#deprecate-loc-reindex-listlike\n",
      "  This is separate from the ipykernel package so we can avoid doing imports until\n"
     ]
    }
   ],
   "source": [
    "#Read in map file so we can decide on samples to include\n",
    "mapping = pd.read_csv(\"data/AG_new/AG_mapping.txt\", sep = \"\\t\", index_col=0)\n",
    "map_clean = mapping.loc[otu_filter.columns.values] #Keep samples if present in otu\n",
    "map_clean = map_clean.reindex(sorted(map_clean.index.values))\n",
    "otu_clean = otu_filter.reindex(sorted(otu_filter.columns.values), axis = 1)"
   ]
  },
  {
   "cell_type": "markdown",
   "metadata": {},
   "source": [
    "# Decide on what samples should be included in the embedding calculations, and name files accordingly"
   ]
  },
  {
   "cell_type": "code",
   "execution_count": 36,
   "metadata": {},
   "outputs": [],
   "source": [
    "#Select all body sites\n",
    "\n",
    "#otu_table_name = \"data/AG_new/otu_filtered_AG_02perc_allbodysites.csv\"\n",
    "#otu_train_table_name = \"data/AG_new/otu_filtered_train_AG_02perc_allbodysites.csv\"\n",
    "#otu_test_table_name = \"data/AG_new/otu_filtered_test_AG_02perc_allbodysites.csv\"\n",
    "#test_sample_file = \"data/AG_new/AG_test_samples_allbodysites.obj\""
   ]
  },
  {
   "cell_type": "code",
   "execution_count": 7,
   "metadata": {},
   "outputs": [],
   "source": [
    "#Select only feces samples\n",
    "otu_use = otu_clean.loc[:, map_clean[\"BODY_SITE\"] == \"UBERON:feces\"]\n",
    "map_use = map_clean.loc[map_clean[\"BODY_SITE\"] == \"UBERON:feces\", :]\n",
    "\n",
    "otu_table_name = \"data/AG_new/feces/otu_filtered_AG_07perc_feces.csv\"\n",
    "otu_train_table_name = \"data/AG_new/feces/otu_filtered_train_AG_07perc_feces.csv\"\n",
    "otu_test_table_name = \"data/AG_new/feces/otu_filtered_test_AG_07perc_feces.csv\"\n",
    "test_sample_file = \"data/AG_new/feces/AG_test_samples_feces.obj\"\n",
    "glove_output_file = \"data/AG_new/feces/glove_input_07perc_feces.txt\""
   ]
  },
  {
   "cell_type": "code",
   "execution_count": 8,
   "metadata": {},
   "outputs": [
    {
     "name": "stdout",
     "output_type": "stream",
     "text": [
      "Only keep taxa present in greater than 6.3924 samples\n",
      "We will keep 9162 taxa\n"
     ]
    }
   ],
   "source": [
    "thresh = 0.0007 * otu_use.shape[1] # at least 1 % of samples (10 in this case)\n",
    "print(\"Only keep taxa present in greater than \" + str(thresh) + \" samples\")\n",
    "binary = otu_use > 0\n",
    "keep = binary.sum(axis = 1) >= thresh# Should be ntaxa\n",
    "binary = binary.loc[keep, :]\n",
    "print(\"We will keep \" + str(keep.sum()) +\" taxa\")\n"
   ]
  },
  {
   "cell_type": "code",
   "execution_count": 39,
   "metadata": {},
   "outputs": [],
   "source": [
    "#Split out a test set\n",
    "\n",
    "np.random.seed(15)\n",
    "test_samples = np.random.choice(binary.columns.values, 1500)\n",
    "f = open(test_sample_file, \"wb\")\n",
    "pickle.dump(test_samples, f)\n",
    "f.close()\n",
    "\n",
    "binary_train = binary.loc[:, [not(i in test_samples) for i in binary.columns.values ]]\n",
    "otu_train = otu_use.loc[:, [not(i in test_samples) for i in binary.columns.values ]]\n",
    "otu_test = otu_use[test_samples]\n"
   ]
  },
  {
   "cell_type": "code",
   "execution_count": 40,
   "metadata": {},
   "outputs": [
    {
     "name": "stdout",
     "output_type": "stream",
     "text": [
      "(35275, 7744)\n",
      "(35275, 1500)\n",
      "(35275, 15475)\n"
     ]
    }
   ],
   "source": [
    "#Test text output with small file\n",
    "#otu_filter[\"#OTU ID\"].head()\n",
    "#tmp = otu_filter.head()\n",
    "#tmp = tmp.iloc[:, [0,1,2,3,4]]\n",
    "#tmp.head()\n",
    "#tmp.to_csv(\"silva/test_out.csv\", sep = \"\\t\", index = False)\n",
    "print(otu_train.shape)\n",
    "print(otu_test.shape)\n",
    "print(otu_filter.shape)"
   ]
  },
  {
   "cell_type": "code",
   "execution_count": null,
   "metadata": {},
   "outputs": [],
   "source": [
    "#Check that taxa have their names"
   ]
  },
  {
   "cell_type": "code",
   "execution_count": 41,
   "metadata": {},
   "outputs": [],
   "source": [
    "otu_train_filter = otu_train.loc[np.array(keep), :]\n",
    "otu_test_filter = otu_test.loc[np.array(keep), :]\n",
    "otu_filter = otu_filter.loc[keep, :]\n",
    "\n",
    "otu_filter.to_csv(otu_table_name, sep = \"\\t\", index = True)\n",
    "otu_train_filter.to_csv(otu_train_table_name, sep = \"\\t\", index = True)\n",
    "otu_test_filter.to_csv(otu_test_table_name, sep = \"\\t\", index = True)"
   ]
  },
  {
   "cell_type": "code",
   "execution_count": 49,
   "metadata": {},
   "outputs": [],
   "source": [
    "taxa_by_taxa = np.dot(binary, binary.T)"
   ]
  },
  {
   "cell_type": "code",
   "execution_count": null,
   "metadata": {},
   "outputs": [],
   "source": []
  },
  {
   "cell_type": "code",
   "execution_count": 43,
   "metadata": {},
   "outputs": [],
   "source": [
    "file_text = []\n",
    "for i in range(binary_train.shape[1]):\n",
    "    taxa_share = binary_train.index[binary_train.iloc[:,i] == True]\n",
    "    file_text.append(taxa_share)"
   ]
  },
  {
   "cell_type": "code",
   "execution_count": 44,
   "metadata": {},
   "outputs": [
    {
     "name": "stdout",
     "output_type": "stream",
     "text": [
      "Max number of taxa in any given sample is: 1792\n",
      "Found at 3949\n"
     ]
    }
   ],
   "source": [
    "lengths = []\n",
    "for taxa_list in file_text:\n",
    "    lengths.append(len(taxa_list))\n",
    "max_val = max(lengths)\n",
    "max_ind = np.argmax(lengths)\n",
    "print(\"Max number of taxa in any given sample is: \" + str(max_val))\n",
    "print(\"Found at \" + str(max_ind))\n"
   ]
  },
  {
   "cell_type": "code",
   "execution_count": 47,
   "metadata": {},
   "outputs": [],
   "source": [
    "#Write Glove input file\n",
    "with open(glove_output_file, mode = 'w', newline='') as file:\n",
    "    writer = csv.writer(file, delimiter = \"\\t\", quoting = csv.QUOTE_NONE, escapechar = '')\n",
    "    for taxa_list in file_text:\n",
    "        writer.writerow(taxa_list)\n",
    "file.close()\n"
   ]
  }
 ],
 "metadata": {
  "kernelspec": {
   "display_name": "Python 3",
   "language": "python",
   "name": "python3"
  },
  "language_info": {
   "codemirror_mode": {
    "name": "ipython",
    "version": 3
   },
   "file_extension": ".py",
   "mimetype": "text/x-python",
   "name": "python",
   "nbconvert_exporter": "python",
   "pygments_lexer": "ipython3",
   "version": "3.5.5"
  }
 },
 "nbformat": 4,
 "nbformat_minor": 2
}
