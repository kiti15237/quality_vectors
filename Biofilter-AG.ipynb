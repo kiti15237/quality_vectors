{
 "cells": [
  {
   "cell_type": "code",
   "execution_count": 1,
   "metadata": {},
   "outputs": [
    {
     "name": "stderr",
     "output_type": "stream",
     "text": [
      "C:\\Users\\ctata\\Miniconda3\\envs\\tensorflow\\lib\\site-packages\\h5py\\__init__.py:36: FutureWarning: Conversion of the second argument of issubdtype from `float` to `np.floating` is deprecated. In future, it will be treated as `np.float64 == np.dtype(float).type`.\n",
      "  from ._conv import register_converters as _register_converters\n",
      "Using TensorFlow backend.\n"
     ]
    }
   ],
   "source": [
    "import pandas as pd\n",
    "\n",
    "from pandas import DataFrame as df\n",
    "import numpy as np\n",
    "import csv\n",
    "from itertools import combinations\n",
    "from sklearn.metrics.pairwise import cosine_similarity \n",
    "import pickle\n",
    "import keras\n",
    "from keras.preprocessing import sequence\n",
    "from keras.layers import Input, Dense, Embedding, Reshape, Dot\n",
    "from keras.models import Model \n",
    "import matplotlib.pyplot as plt\n",
    "from scipy.stats import pearsonr\n",
    "import scipy.stats as stats"
   ]
  },
  {
   "cell_type": "code",
   "execution_count": null,
   "metadata": {},
   "outputs": [],
   "source": [
    "phy_dists = pd.read_csv(\"data/AG_new/phy_dists.txt\", sep = \" \", index_col=0)\n",
    "\n",
    "def getPhyDist(id_1, id_2):\n",
    "    return(phy_dists[id_1][id_2])"
   ]
  },
  {
   "cell_type": "code",
   "execution_count": null,
   "metadata": {},
   "outputs": [],
   "source": [
    "f = open(\"data/AG_new/phy_dists.obj\", \"wb\")\n",
    "pickle.dump(phy_dists, f)\n",
    "f.close"
   ]
  },
  {
   "cell_type": "code",
   "execution_count": null,
   "metadata": {},
   "outputs": [],
   "source": [
    "#Load phy_distances\n",
    "f = open(\"data/AG_new/phy_dists.obj\", \"rb\")\n",
    "phy_dists = pickle.dump(f)\n",
    "f.close"
   ]
  },
  {
   "cell_type": "code",
   "execution_count": null,
   "metadata": {},
   "outputs": [],
   "source": [
    "f = open(\"data/AG_new/allbodysites/qual_vecs.obj\", \"rb\")\n",
    "qual_vecs = pickle.load(f)\n",
    "f.close()\n",
    "qual_vecs.head()"
   ]
  },
  {
   "cell_type": "code",
   "execution_count": null,
   "metadata": {},
   "outputs": [],
   "source": [
    "from sklearn.metrics import pairwise_distances\n",
    "qual_vec_dists = pairwise_distances(qual_vecs, metric=\"cosine\")\n",
    "taxa = qual_vecs.index.values\n",
    "qual_vec_dists = pd.DataFrame(qual_vec_dists, index = taxa, columns = taxa)"
   ]
  },
  {
   "cell_type": "code",
   "execution_count": null,
   "metadata": {},
   "outputs": [],
   "source": [
    "phy_dists_tmp = phy_dists.loc[qual_vecs.index.values, :]\n",
    "phy_dists_match = phy_dists_tmp.loc[: , [str(i) for i in qual_vecs.index.values]]"
   ]
  },
  {
   "cell_type": "code",
   "execution_count": null,
   "metadata": {},
   "outputs": [],
   "source": [
    "f = open(\"data/AG_new/allbodysites/phy_dists_match.obj\", \"wb\")\n",
    "pickle.dump(phy_dists_match, f)\n",
    "f.close()\n",
    "\n",
    "f = open(\"data/AG_new/allbodysites/qual_vecs_dists.obj\", \"wb\")\n",
    "pickle.dump(qual_vec_dists, f)\n",
    "f.close()"
   ]
  },
  {
   "cell_type": "markdown",
   "metadata": {},
   "source": [
    "### Start loading data here "
   ]
  },
  {
   "cell_type": "code",
   "execution_count": 2,
   "metadata": {},
   "outputs": [],
   "source": [
    "#rewrite this function with matrix x and y\n",
    "import matplotlib as mpl\n",
    "from collections import Counter\n",
    "def plotLegend(scale, ax, cmap):\n",
    "    norm = mpl.colors.Normalize(vmin=min(scale), vmax=max(scale))\n",
    "    cb1 = mpl.colorbar.ColorbarBase(ax, cmap=cmap,\n",
    "                                    norm = norm,\n",
    "                                    orientation='vertical')\n",
    "\n",
    "def plotCorrelationContour(dists_mat_x, dists_mat_y):\n",
    "\n",
    "    end_range = np.min([len(dists_vecx), 10000000])\n",
    "    x = dists_vecx[0:end_range]\n",
    "    y = dists_vecy[0:end_range]\n",
    "    bins_x = np.linspace(0, np.max(x), 100)\n",
    "    bins_y = np.linspace(0, np.max(y), 100)\n",
    "    x_inds = np.digitize(x, bins_x)\n",
    "    y_inds = np.digitize(y, bins_y)\n",
    "\n",
    "    #Count number of times we saw that phy_dist and that qual_dist corresponding\n",
    "    pairs = zip(x_inds, y_inds)\n",
    "    pairs_list = [(i,j) for (i,j) in pairs]\n",
    "    count = Counter(pairs_list)\n",
    "    \n",
    "    z = np.zeros((len(bins_y), len(bins_x)))\n",
    "    for i in range(len(bins_x)):\n",
    "        for j in range(len(bins_y)):\n",
    "            z[j, i] = count[(i, j)]\n",
    "            \n",
    "    max_val = np.max(z)\n",
    "    scale = np.arange(1, max_val, max_val / 15)\n",
    "    cmap = 'viridis'\n",
    "    fig, (ax1, ax2) = plt.subplots(nrows = 1, ncols = 2, figsize=(10, 5), gridspec_kw = {'width_ratios':[20, 1]})\n",
    "    ax1.contour(z, levels = scale, cmap =  cmap)\n",
    "    print(np.max(y_inds))\n",
    "    ax1.set_ylim(0, np.max(y_inds))\n",
    "    ax1.set_xlim(0, np.max(x_inds))\n",
    "    plotLegend(scale, ax2, cmap)\n",
    "\n"
   ]
  },
  {
   "cell_type": "code",
   "execution_count": 48,
   "metadata": {},
   "outputs": [
    {
     "data": {
      "text/plain": [
       "Counter({1: 2, 2: 2, 3: 1, 4: 2, 5: 1, 6: 1})"
      ]
     },
     "execution_count": 48,
     "metadata": {},
     "output_type": "execute_result"
    }
   ],
   "source": [
    "from collections import Counter\n",
    "from itertools import chain\n",
    "mat = np.matrix([[1,2,1],[2,3,4],[4,5,6]])\n",
    "\n",
    "\n",
    "def countOccurrencesMatrix(mat):\n",
    "    counter_list = []\n",
    "    for i in range(mat.shape[0]):\n",
    "        counter_list.append(Counter(np.squeeze(np.asarray(mat))[i]))\n",
    "    return(sum(counter_list, Counter()))\n",
    "    "
   ]
  },
  {
   "cell_type": "code",
   "execution_count": 3,
   "metadata": {},
   "outputs": [],
   "source": [
    "#rewrite this function with matrix x and y\n",
    "import matplotlib as mpl\n",
    "from collections import Counter\n",
    "def plotLegend(scale, ax, cmap):\n",
    "    norm = mpl.colors.Normalize(vmin=min(scale), vmax=max(scale))\n",
    "    cb1 = mpl.colorbar.ColorbarBase(ax, cmap=cmap,\n",
    "                                    norm = norm,\n",
    "                                    orientation='vertical')\n",
    "\n",
    "def plotCorrelationContour(dists_vecx, dists_vecy):\n",
    "\n",
    "    end_range = np.min([len(dists_vecx), 10000000])\n",
    "    x = dists_vecx[0:end_range]\n",
    "    y = dists_vecy[0:end_range]\n",
    "    bins_x = np.linspace(0, np.max(x), 100)\n",
    "    bins_y = np.linspace(0, np.max(y), 100)\n",
    "    x_inds = np.digitize(x, bins_x)\n",
    "    y_inds = np.digitize(y, bins_y)\n",
    "\n",
    "    #Count number of times we saw that phy_dist and that qual_dist corresponding\n",
    "    pairs = zip(x_inds, y_inds)\n",
    "    pairs_list = [(i,j) for (i,j) in pairs]\n",
    "    count = Counter(pairs_list)\n",
    "    \n",
    "    z = np.zeros((len(bins_y), len(bins_x)))\n",
    "    for i in range(len(bins_x)):\n",
    "        for j in range(len(bins_y)):\n",
    "            z[j, i] = count[(i, j)]\n",
    "            \n",
    "    max_val = np.max(z)\n",
    "    scale = np.arange(1, max_val, max_val / 15)\n",
    "    cmap = 'viridis'\n",
    "    fig, (ax1, ax2) = plt.subplots(nrows = 1, ncols = 2, figsize=(10, 5), gridspec_kw = {'width_ratios':[20, 1]})\n",
    "    ax1.contour(z, levels = scale, cmap =  cmap)\n",
    "    print(np.max(y_inds))\n",
    "    ax1.set_ylim(0, np.max(y_inds))\n",
    "    ax1.set_xlim(0, np.max(x_inds))\n",
    "    plotLegend(scale, ax2, cmap)\n",
    "\n"
   ]
  },
  {
   "cell_type": "code",
   "execution_count": 4,
   "metadata": {},
   "outputs": [],
   "source": [
    "f = open(\"data/AG_new/allbodysites/phy_dists_match.obj\", \"rb\")\n",
    "phy_dists_match = pickle.load(f)\n",
    "f.close()\n",
    "\n",
    "f = open(\"data/AG_new/allbodysites/qual_vecs_dists.obj\", \"rb\")\n",
    "qual_vec_dists = pickle.load(f)\n",
    "f.close()"
   ]
  },
  {
   "cell_type": "code",
   "execution_count": 9,
   "metadata": {},
   "outputs": [],
   "source": [
    "#Pick 1000 random rows\n",
    "rand_row = np.random.choice(range(phy_dists_match.shape[0]), 5000)\n",
    "phy_dists_small = phy_dists_match.iloc[rand_row, :]\n",
    "qual_dists_small = qual_vec_dists.iloc[rand_row, :]"
   ]
  },
  {
   "cell_type": "code",
   "execution_count": 10,
   "metadata": {},
   "outputs": [],
   "source": [
    "#Turn matrices into vectors\n",
    "phy_dists_vec = np.array([i for sublist in np.array(phy_dists_small) for i in sublist])\n",
    "qual_dists_vec = np.array([i for sublist in np.array(qual_dists_small) for i in sublist])\n",
    "taxa_pairs = np.array([(i, j) for i in phy_dists_small.index.values for j in phy_dists_small.columns.values])"
   ]
  },
  {
   "cell_type": "code",
   "execution_count": 11,
   "metadata": {},
   "outputs": [],
   "source": [
    "#Find na values and remove from all lists\n",
    "import math\n",
    "na_inds = np.argwhere(np.isnan(phy_dists_vec))\n",
    "phy_dists_vec = np.delete(phy_dists_vec, na_inds)\n",
    "qual_dists_vec = np.delete(qual_dists_vec, na_inds)\n",
    "taxa_pairs = np.delete(taxa_pairs, na_inds)"
   ]
  },
  {
   "cell_type": "code",
   "execution_count": 12,
   "metadata": {},
   "outputs": [
    {
     "name": "stdout",
     "output_type": "stream",
     "text": [
      "100\n"
     ]
    },
    {
     "data": {
      "image/png": "[encoded data removed]",
      "text/plain": [
       "<Figure size 720x360 with 2 Axes>"
      ]
     },
     "metadata": {},
     "output_type": "display_data"
    }
   ],
   "source": [
    "plotCorrelationContour(qual_dists_vec, phy_dists_vec)"
   ]
  },
  {
   "cell_type": "code",
   "execution_count": null,
   "metadata": {},
   "outputs": [],
   "source": [
    "import helper_functions as hf\n",
    "\n",
    "ko_dists_f = open(\"data/AG_new/ko_dists.txt\", \"r\")\n",
    "ko_dists = ko_dists_f.read().split('\\n')\n",
    "ko_dists_f.close()\n",
    "ko_dists = [float(i) for i in ko_dists if hf.is_number(i)]\n",
    "\n",
    "\n",
    "qual_vec_dists_f = open('data/AG_new/allbodysites/qual_vecs/qual_vec_dists.txt', \"r\")\n",
    "qual_vec_dists = qual_vec_dists_f.read().split('\\n')\n",
    "qual_vec_dists_f.close()\n",
    "qual_vec_dists = [float(i) for i in qual_vec_dists if hf.is_number(i)]"
   ]
  },
  {
   "cell_type": "code",
   "execution_count": null,
   "metadata": {},
   "outputs": [],
   "source": [
    "plotCorrelationContour(qual_dists_vec, ko_dists)"
   ]
  },
  {
   "cell_type": "code",
   "execution_count": null,
   "metadata": {},
   "outputs": [],
   "source": []
  },
  {
   "cell_type": "code",
   "execution_count": null,
   "metadata": {},
   "outputs": [],
   "source": [
    "#Plot the relationship between phylogenetic distances and embedding distances\n",
    "end_range = 100\n",
    "x = phy_dists_vec[0:end_range]\n",
    "y = qual_dists_vec[0:end_range]\n",
    "slope, intercept, r_value, p_value, std_err = stats.linregress(x,y)\n",
    "line = slope*x+intercept\n",
    "plt.plot(x,y,'o', x, line, color = '#')\n",
    "plt.xlabel(\"Phylogenetic Distance\")\n",
    "plt.ylabel(\"Embedding Distance\")\n",
    "\n",
    "#Correlation\n",
    "corr = pearsonr(x,y)\n",
    "print(\"Pearson Coefficient: \" + str(corr[0]))\n",
    "print(\"Pearson P-value: \" + str(corr[1]))"
   ]
  },
  {
   "cell_type": "code",
   "execution_count": null,
   "metadata": {},
   "outputs": [],
   "source": [
    "qual_dists_vec_neg = 0 - qual_dists_vec\n",
    "add = qual_dists_vec_neg + phy_dists_vec\n",
    "sort_ind = np.argsort(add)"
   ]
  },
  {
   "cell_type": "code",
   "execution_count": null,
   "metadata": {},
   "outputs": [],
   "source": [
    "numFeatures = 1500\n",
    "i = 0\n",
    "taxa_pairs_keep = []\n",
    "taxa_keep = set()\n",
    "numFeaturesSelected = 0\n",
    "while numFeaturesSelected < numFeatures:\n",
    "    pair = taxa_pairs[sort_ind[i]]\n",
    "    taxa_keep.add(pair[0])\n",
    "    taxa_keep.add(pair[1])\n",
    "    numFeaturesSelected = len(taxa_keep)\n",
    "    i = i + 1\n",
    "    \n",
    "print(\"Number of taxa: \" + str(len(taxa_keep)))"
   ]
  },
  {
   "cell_type": "code",
   "execution_count": null,
   "metadata": {},
   "outputs": [],
   "source": [
    "\n",
    "file = open(\"feature_selection/taxa_lowphy_highcos.obj\", \"wb\")\n",
    "pickle.dump(taxa_keep, file)\n",
    "file.close()"
   ]
  },
  {
   "cell_type": "code",
   "execution_count": null,
   "metadata": {},
   "outputs": [],
   "source": []
  },
  {
   "cell_type": "code",
   "execution_count": null,
   "metadata": {},
   "outputs": [],
   "source": []
  },
  {
   "cell_type": "markdown",
   "metadata": {},
   "source": [
    "Old code + graphing utility"
   ]
  },
  {
   "cell_type": "code",
   "execution_count": null,
   "metadata": {},
   "outputs": [],
   "source": [
    "slope = 1.1\n",
    "intercept = 0.8\n",
    "y = [slope * i + intercept for i in phy]\n",
    "\n"
   ]
  },
  {
   "cell_type": "code",
   "execution_count": null,
   "metadata": {},
   "outputs": [],
   "source": [
    "keep = [cosine[i] > y[i] for i in range(len(phy))]\n",
    "\n",
    "taxa_keep = set()\n",
    "for pair in np.array(taxa_pairs)[keep]:\n",
    "    taxa_keep.add(pair[0])\n",
    "    taxa_keep.add(pair[1])\n",
    "print(\"Number of taxa: \" + str(len(taxa_keep)))"
   ]
  },
  {
   "cell_type": "code",
   "execution_count": null,
   "metadata": {},
   "outputs": [],
   "source": [
    "file = open(\"taxa_lowphy_highcos.obj\", \"wb\")\n",
    "pickle.dump(taxa_keep, file)\n",
    "file.close()"
   ]
  },
  {
   "cell_type": "code",
   "execution_count": null,
   "metadata": {},
   "outputs": [],
   "source": [
    "plt.scatter(phy[0:100000], cosine[0:100000])\n",
    "x = [i * .1 for i in range(6)]\n",
    "plt.plot(x,[slope * i + intercept for i in x] , color = \"red\")"
   ]
  },
  {
   "cell_type": "code",
   "execution_count": null,
   "metadata": {},
   "outputs": [],
   "source": []
  },
  {
   "cell_type": "code",
   "execution_count": null,
   "metadata": {},
   "outputs": [],
   "source": []
  },
  {
   "cell_type": "code",
   "execution_count": null,
   "metadata": {},
   "outputs": [],
   "source": [
    "print(taxa_pairs_keep[0][0])\n",
    "print(taxa_pairs_keep[0][1])\n",
    "print(phy_dists[taxa_pairs_keep[0][0]][taxa_pairs_keep[0][1]])\n",
    "qual_vec_dists_pd[taxa_pairs_keep[0][0]][taxa_pairs_keep[0][1]]\n",
    "qual_vec_dists_pd[taxa_pairs_keep[1][0]][taxa_pairs_keep[1][1]]\n",
    "qual_vec_dists_pd[taxa_pairs_keep[3][0]][taxa_pairs_keep[3][1]]"
   ]
  },
  {
   "cell_type": "markdown",
   "metadata": {},
   "source": [
    "Plot qual vec dists against ko dists"
   ]
  },
  {
   "cell_type": "code",
   "execution_count": null,
   "metadata": {},
   "outputs": [],
   "source": []
  },
  {
   "cell_type": "code",
   "execution_count": null,
   "metadata": {},
   "outputs": [],
   "source": [
    "import matplotlib as mpl\n",
    "def plotLegend(scale, ax, cmap):\n",
    "    norm = mpl.colors.Normalize(vmin=min(scale), vmax=max(scale))\n",
    "    cb1 = mpl.colorbar.ColorbarBase(ax, cmap=cmap,\n",
    "                                    norm = norm,\n",
    "                                    orientation='vertical')\n",
    "\n",
    "def plotCorrelationContour(dists_vecx, dists_vecy):\n",
    "    from collections import Counter\n",
    "    end_range = 10000000\n",
    "    x = dists_vecx[0:end_range]\n",
    "    y = dists_vecy[0:end_range]\n",
    "    bins_x = np.linspace(0, np.max(x), 100)\n",
    "    bins_y = np.linspace(0, np.max(y), 100)\n",
    "    x_inds = np.digitize(x, bins_x)\n",
    "    y_inds = np.digitize(y, bins_y)\n",
    "\n",
    "    #Count number of times we saw that phy_dist and that qual_dist corresponding\n",
    "    pairs = zip(x_inds, y_inds)\n",
    "    pairs_list = [(i,j) for (i,j) in pairs]\n",
    "    count = Counter(pairs_list)\n",
    "    \n",
    "    z = np.zeros((len(bins_y), len(bins_x)))\n",
    "    for i in range(len(bins_x)):\n",
    "        for j in range(len(bins_y)):\n",
    "            z[j, i] = count[(j, i)]\n",
    "            \n",
    "    max_val = np.max(z)\n",
    "    scale = np.arange(1, max_val, max_val / 15)\n",
    "    cmap = 'viridis'\n",
    "    fig, (ax1, ax2) = plt.subplots(nrows = 1, ncols = 2, figsize=(10, 5), gridspec_kw = {'width_ratios':[20, 1]})\n",
    "    ax1.contour(z, levels = scale, cmap =  cmap)\n",
    "    print(np.max(y_inds))\n",
    "    ax1.set_ylim(0, np.max(y_inds))\n",
    "    ax1.set_xlim(0, np.max(x_inds))\n",
    "    plotLegend(scale, ax2, cmap)\n",
    "\n"
   ]
  },
  {
   "cell_type": "code",
   "execution_count": null,
   "metadata": {},
   "outputs": [],
   "source": [
    "plotCorrelationContour(qual_vec_dists, ko_dists)"
   ]
  },
  {
   "cell_type": "code",
   "execution_count": null,
   "metadata": {},
   "outputs": [],
   "source": [
    "plotCorrelationContour(qual_vec_dists, phy_dists)"
   ]
  },
  {
   "cell_type": "code",
   "execution_count": null,
   "metadata": {},
   "outputs": [],
   "source": [
    "end_range = 10000\n",
    "x = np.array(ko_dists[0:end_range])\n",
    "y = np.array(qual_vec_dists[0:end_range])\n",
    "#slope, intercept, r_value, p_value, std_err = stats.linregress(x,y)"
   ]
  },
  {
   "cell_type": "code",
   "execution_count": null,
   "metadata": {},
   "outputs": [],
   "source": [
    "slope * np.array(x)"
   ]
  },
  {
   "cell_type": "code",
   "execution_count": null,
   "metadata": {},
   "outputs": [],
   "source": [
    "print(slope)\n",
    "print(intercept)\n",
    "line = slope*x+intercept\n",
    "plt.plot(x,y,'o', color = \"#AC76C8\")\n",
    "plt.plot(x, line, color = \"orange\")\n",
    "#plt.xlabel(\"KO Distance\")\n",
    "#plt.ylabel(\"Embedding Distance\")\n",
    "#Correlation\n",
    "corr = pearsonr(x,y)\n",
    "print(\"Pearson Coefficient: \" + str(corr[0]))\n",
    "print(\"Pearson P-value: \" + str(corr[1]))"
   ]
  }
 ],
 "metadata": {
  "kernelspec": {
   "display_name": "Python 3",
   "language": "python",
   "name": "python3"
  },
  "language_info": {
   "codemirror_mode": {
    "name": "ipython",
    "version": 3
   },
   "file_extension": ".py",
   "mimetype": "text/x-python",
   "name": "python",
   "nbconvert_exporter": "python",
   "pygments_lexer": "ipython3",
   "version": "3.5.5"
  }
 },
 "nbformat": 4,
 "nbformat_minor": 2
}
