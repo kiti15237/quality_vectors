{
 "cells": [
  {
   "cell_type": "code",
   "execution_count": 1,
   "metadata": {},
   "outputs": [
    {
     "name": "stderr",
     "output_type": "stream",
     "text": [
      "C:\\Users\\ctata\\Miniconda3\\envs\\tensorflow\\lib\\site-packages\\h5py\\__init__.py:36: FutureWarning: Conversion of the second argument of issubdtype from `float` to `np.floating` is deprecated. In future, it will be treated as `np.float64 == np.dtype(float).type`.\n",
      "  from ._conv import register_converters as _register_converters\n",
      "Using TensorFlow backend.\n"
     ]
    }
   ],
   "source": [
    "import pandas as pd\n",
    "\n",
    "from pandas import DataFrame as df\n",
    "import numpy as np\n",
    "import csv\n",
    "from itertools import combinations\n",
    "from sklearn.metrics.pairwise import cosine_similarity \n",
    "import pickle\n",
    "import keras\n",
    "from keras.preprocessing import sequence\n",
    "from keras.layers import Input, Dense, Embedding, Reshape, Dot\n",
    "from keras.models import Model \n",
    "import matplotlib.pyplot as plt\n",
    "from scipy.stats import pearsonr\n",
    "from scipy import stats"
   ]
  },
  {
   "cell_type": "code",
   "execution_count": 2,
   "metadata": {},
   "outputs": [],
   "source": [
    "phy_dists = pd.read_csv(\"data/silva/tree/phy_dists.txt\", sep = \" \", index_col=0)\n",
    "\n",
    "dict_file = open(\"dictionary.obj\", \"rb\")\n",
    "dictionary = pickle.load(dict_file)\n",
    "\n",
    "revdict_file = open(\"reverse_dictionary.obj\", \"rb\")\n",
    "reverse_dictionary = pickle.load(revdict_file)\n",
    "\n",
    "vocab_size = len(dictionary)\n",
    "#Dictionary goes [taxa: int_id]\n",
    "#Reverse dictionary goes [int_id: taxa]\n",
    "\n",
    "def getPhyDist(id_1, id_2):\n",
    "    return(phy_dists[id_1][id_2])"
   ]
  },
  {
   "cell_type": "code",
   "execution_count": 3,
   "metadata": {},
   "outputs": [
    {
     "data": {
      "text/html": [
       "<div>\n",
       "<style scoped>\n",
       "    .dataframe tbody tr th:only-of-type {\n",
       "        vertical-align: middle;\n",
       "    }\n",
       "\n",
       "    .dataframe tbody tr th {\n",
       "        vertical-align: top;\n",
       "    }\n",
       "\n",
       "    .dataframe thead th {\n",
       "        text-align: right;\n",
       "    }\n",
       "</style>\n",
       "<table border=\"1\" class=\"dataframe\">\n",
       "  <thead>\n",
       "    <tr style=\"text-align: right;\">\n",
       "      <th></th>\n",
       "      <th>1</th>\n",
       "      <th>2</th>\n",
       "      <th>3</th>\n",
       "      <th>4</th>\n",
       "      <th>5</th>\n",
       "      <th>6</th>\n",
       "      <th>7</th>\n",
       "      <th>8</th>\n",
       "      <th>9</th>\n",
       "      <th>10</th>\n",
       "      <th>...</th>\n",
       "      <th>491</th>\n",
       "      <th>492</th>\n",
       "      <th>493</th>\n",
       "      <th>494</th>\n",
       "      <th>495</th>\n",
       "      <th>496</th>\n",
       "      <th>497</th>\n",
       "      <th>498</th>\n",
       "      <th>499</th>\n",
       "      <th>500</th>\n",
       "    </tr>\n",
       "    <tr>\n",
       "      <th>0</th>\n",
       "      <th></th>\n",
       "      <th></th>\n",
       "      <th></th>\n",
       "      <th></th>\n",
       "      <th></th>\n",
       "      <th></th>\n",
       "      <th></th>\n",
       "      <th></th>\n",
       "      <th></th>\n",
       "      <th></th>\n",
       "      <th></th>\n",
       "      <th></th>\n",
       "      <th></th>\n",
       "      <th></th>\n",
       "      <th></th>\n",
       "      <th></th>\n",
       "      <th></th>\n",
       "      <th></th>\n",
       "      <th></th>\n",
       "      <th></th>\n",
       "      <th></th>\n",
       "    </tr>\n",
       "  </thead>\n",
       "  <tbody>\n",
       "    <tr>\n",
       "      <th>EF111171</th>\n",
       "      <td>0.120558</td>\n",
       "      <td>0.344913</td>\n",
       "      <td>0.065359</td>\n",
       "      <td>0.164604</td>\n",
       "      <td>0.022335</td>\n",
       "      <td>-0.010506</td>\n",
       "      <td>0.215318</td>\n",
       "      <td>-0.398671</td>\n",
       "      <td>-0.055348</td>\n",
       "      <td>0.090604</td>\n",
       "      <td>...</td>\n",
       "      <td>0.135781</td>\n",
       "      <td>-0.064413</td>\n",
       "      <td>-0.034190</td>\n",
       "      <td>-0.122950</td>\n",
       "      <td>0.247035</td>\n",
       "      <td>-0.092621</td>\n",
       "      <td>-0.236262</td>\n",
       "      <td>-0.082161</td>\n",
       "      <td>-0.089951</td>\n",
       "      <td>0.004798</td>\n",
       "    </tr>\n",
       "    <tr>\n",
       "      <th>GU127198</th>\n",
       "      <td>0.052221</td>\n",
       "      <td>0.552655</td>\n",
       "      <td>0.006732</td>\n",
       "      <td>0.067078</td>\n",
       "      <td>0.247296</td>\n",
       "      <td>0.365529</td>\n",
       "      <td>-0.070627</td>\n",
       "      <td>-0.283178</td>\n",
       "      <td>-0.079033</td>\n",
       "      <td>0.300026</td>\n",
       "      <td>...</td>\n",
       "      <td>-0.120189</td>\n",
       "      <td>0.061027</td>\n",
       "      <td>-0.304076</td>\n",
       "      <td>0.269277</td>\n",
       "      <td>0.053615</td>\n",
       "      <td>0.089568</td>\n",
       "      <td>-0.205022</td>\n",
       "      <td>-0.240862</td>\n",
       "      <td>-0.037295</td>\n",
       "      <td>0.188797</td>\n",
       "    </tr>\n",
       "    <tr>\n",
       "      <th>GQ388775</th>\n",
       "      <td>-0.281597</td>\n",
       "      <td>0.364923</td>\n",
       "      <td>-0.083480</td>\n",
       "      <td>-0.009604</td>\n",
       "      <td>-0.127312</td>\n",
       "      <td>-0.192143</td>\n",
       "      <td>0.219929</td>\n",
       "      <td>0.042317</td>\n",
       "      <td>-0.167354</td>\n",
       "      <td>0.328284</td>\n",
       "      <td>...</td>\n",
       "      <td>0.075366</td>\n",
       "      <td>0.267785</td>\n",
       "      <td>0.011325</td>\n",
       "      <td>-0.047053</td>\n",
       "      <td>0.108474</td>\n",
       "      <td>-0.132507</td>\n",
       "      <td>-0.389616</td>\n",
       "      <td>0.124557</td>\n",
       "      <td>-0.119673</td>\n",
       "      <td>-0.125174</td>\n",
       "    </tr>\n",
       "    <tr>\n",
       "      <th>HM346776</th>\n",
       "      <td>-0.097267</td>\n",
       "      <td>0.125345</td>\n",
       "      <td>-0.163497</td>\n",
       "      <td>0.419889</td>\n",
       "      <td>-0.099444</td>\n",
       "      <td>0.082789</td>\n",
       "      <td>0.227000</td>\n",
       "      <td>0.057113</td>\n",
       "      <td>-0.282058</td>\n",
       "      <td>0.001284</td>\n",
       "      <td>...</td>\n",
       "      <td>-0.061076</td>\n",
       "      <td>0.018308</td>\n",
       "      <td>-0.165371</td>\n",
       "      <td>0.014313</td>\n",
       "      <td>-0.035307</td>\n",
       "      <td>0.093557</td>\n",
       "      <td>-0.552330</td>\n",
       "      <td>0.219922</td>\n",
       "      <td>-0.146428</td>\n",
       "      <td>0.281244</td>\n",
       "    </tr>\n",
       "    <tr>\n",
       "      <th>EU800295</th>\n",
       "      <td>0.232074</td>\n",
       "      <td>0.197474</td>\n",
       "      <td>-0.131251</td>\n",
       "      <td>0.240901</td>\n",
       "      <td>0.219368</td>\n",
       "      <td>0.400498</td>\n",
       "      <td>0.257570</td>\n",
       "      <td>-0.104864</td>\n",
       "      <td>-0.204351</td>\n",
       "      <td>-0.068343</td>\n",
       "      <td>...</td>\n",
       "      <td>-0.037122</td>\n",
       "      <td>-0.236228</td>\n",
       "      <td>-0.252097</td>\n",
       "      <td>0.026793</td>\n",
       "      <td>0.052869</td>\n",
       "      <td>-0.040219</td>\n",
       "      <td>-0.123651</td>\n",
       "      <td>0.148660</td>\n",
       "      <td>0.188558</td>\n",
       "      <td>0.477138</td>\n",
       "    </tr>\n",
       "  </tbody>\n",
       "</table>\n",
       "<p>5 rows × 500 columns</p>\n",
       "</div>"
      ],
      "text/plain": [
       "               1         2         3         4         5         6    \\\n",
       "0                                                                      \n",
       "EF111171  0.120558  0.344913  0.065359  0.164604  0.022335 -0.010506   \n",
       "GU127198  0.052221  0.552655  0.006732  0.067078  0.247296  0.365529   \n",
       "GQ388775 -0.281597  0.364923 -0.083480 -0.009604 -0.127312 -0.192143   \n",
       "HM346776 -0.097267  0.125345 -0.163497  0.419889 -0.099444  0.082789   \n",
       "EU800295  0.232074  0.197474 -0.131251  0.240901  0.219368  0.400498   \n",
       "\n",
       "               7         8         9         10     ...          491  \\\n",
       "0                                                   ...                \n",
       "EF111171  0.215318 -0.398671 -0.055348  0.090604    ...     0.135781   \n",
       "GU127198 -0.070627 -0.283178 -0.079033  0.300026    ...    -0.120189   \n",
       "GQ388775  0.219929  0.042317 -0.167354  0.328284    ...     0.075366   \n",
       "HM346776  0.227000  0.057113 -0.282058  0.001284    ...    -0.061076   \n",
       "EU800295  0.257570 -0.104864 -0.204351 -0.068343    ...    -0.037122   \n",
       "\n",
       "               492       493       494       495       496       497  \\\n",
       "0                                                                      \n",
       "EF111171 -0.064413 -0.034190 -0.122950  0.247035 -0.092621 -0.236262   \n",
       "GU127198  0.061027 -0.304076  0.269277  0.053615  0.089568 -0.205022   \n",
       "GQ388775  0.267785  0.011325 -0.047053  0.108474 -0.132507 -0.389616   \n",
       "HM346776  0.018308 -0.165371  0.014313 -0.035307  0.093557 -0.552330   \n",
       "EU800295 -0.236228 -0.252097  0.026793  0.052869 -0.040219 -0.123651   \n",
       "\n",
       "               498       499       500  \n",
       "0                                       \n",
       "EF111171 -0.082161 -0.089951  0.004798  \n",
       "GU127198 -0.240862 -0.037295  0.188797  \n",
       "GQ388775  0.124557 -0.119673 -0.125174  \n",
       "HM346776  0.219922 -0.146428  0.281244  \n",
       "EU800295  0.148660  0.188558  0.477138  \n",
       "\n",
       "[5 rows x 500 columns]"
      ]
     },
     "execution_count": 3,
     "metadata": {},
     "output_type": "execute_result"
    }
   ],
   "source": [
    "qual_vecs = pd.read_csv(\"embeddings/silva/glove_emb_freshwater_2perc_500.txt\", sep = \" \", index_col = 0, header=None)\n",
    "qual_vecs = qual_vecs.drop(\"<unk>\", axis = 0)\n",
    "qual_vecs.head()"
   ]
  },
  {
   "cell_type": "code",
   "execution_count": 4,
   "metadata": {},
   "outputs": [],
   "source": [
    "#Sort quality vector by taxa name\n",
    "qual_vecs_sort = qual_vecs.reindex(sorted(qual_vecs.index))\n",
    "qual_vecs_sort.head()\n",
    "qual_vecs = qual_vecs_sort"
   ]
  },
  {
   "cell_type": "code",
   "execution_count": 5,
   "metadata": {},
   "outputs": [
    {
     "data": {
      "text/html": [
       "<div>\n",
       "<style scoped>\n",
       "    .dataframe tbody tr th:only-of-type {\n",
       "        vertical-align: middle;\n",
       "    }\n",
       "\n",
       "    .dataframe tbody tr th {\n",
       "        vertical-align: top;\n",
       "    }\n",
       "\n",
       "    .dataframe thead th {\n",
       "        text-align: right;\n",
       "    }\n",
       "</style>\n",
       "<table border=\"1\" class=\"dataframe\">\n",
       "  <thead>\n",
       "    <tr style=\"text-align: right;\">\n",
       "      <th></th>\n",
       "      <th>AAAA02048336</th>\n",
       "      <th>AACY020061762</th>\n",
       "      <th>AACY020170993</th>\n",
       "      <th>AACY020414384</th>\n",
       "      <th>AACY020539760</th>\n",
       "      <th>AACY023242300</th>\n",
       "      <th>AACY023337690</th>\n",
       "      <th>AACY023514927</th>\n",
       "      <th>AAQJ02000001</th>\n",
       "      <th>AB003934</th>\n",
       "      <th>...</th>\n",
       "      <th>Z49728</th>\n",
       "      <th>Z49729</th>\n",
       "      <th>Z49733</th>\n",
       "      <th>Z49735</th>\n",
       "      <th>Z76663</th>\n",
       "      <th>Z95718</th>\n",
       "      <th>Z95727</th>\n",
       "      <th>Z95729</th>\n",
       "      <th>Z95732</th>\n",
       "      <th>Z96085</th>\n",
       "    </tr>\n",
       "  </thead>\n",
       "  <tbody>\n",
       "    <tr>\n",
       "      <th>AAAA02048336</th>\n",
       "      <td>0.00000</td>\n",
       "      <td>0.97377</td>\n",
       "      <td>0.97904</td>\n",
       "      <td>1.16393</td>\n",
       "      <td>1.20581</td>\n",
       "      <td>1.11508</td>\n",
       "      <td>1.06410</td>\n",
       "      <td>1.10324</td>\n",
       "      <td>1.12875</td>\n",
       "      <td>0.83245</td>\n",
       "      <td>...</td>\n",
       "      <td>0.98828</td>\n",
       "      <td>1.01032</td>\n",
       "      <td>0.98464</td>\n",
       "      <td>1.06954</td>\n",
       "      <td>1.13430</td>\n",
       "      <td>0.97459</td>\n",
       "      <td>0.97422</td>\n",
       "      <td>0.96157</td>\n",
       "      <td>0.97635</td>\n",
       "      <td>1.10995</td>\n",
       "    </tr>\n",
       "    <tr>\n",
       "      <th>AACY020061762</th>\n",
       "      <td>0.97377</td>\n",
       "      <td>0.00000</td>\n",
       "      <td>0.56873</td>\n",
       "      <td>1.17384</td>\n",
       "      <td>0.64720</td>\n",
       "      <td>1.12499</td>\n",
       "      <td>0.53903</td>\n",
       "      <td>0.63907</td>\n",
       "      <td>0.48432</td>\n",
       "      <td>0.61458</td>\n",
       "      <td>...</td>\n",
       "      <td>0.34385</td>\n",
       "      <td>0.36589</td>\n",
       "      <td>0.34021</td>\n",
       "      <td>0.42511</td>\n",
       "      <td>0.46343</td>\n",
       "      <td>0.60020</td>\n",
       "      <td>0.56391</td>\n",
       "      <td>0.55126</td>\n",
       "      <td>0.56604</td>\n",
       "      <td>0.42622</td>\n",
       "    </tr>\n",
       "    <tr>\n",
       "      <th>AACY020170993</th>\n",
       "      <td>0.97904</td>\n",
       "      <td>0.56873</td>\n",
       "      <td>0.00000</td>\n",
       "      <td>1.17911</td>\n",
       "      <td>0.80077</td>\n",
       "      <td>1.13026</td>\n",
       "      <td>0.65906</td>\n",
       "      <td>0.69820</td>\n",
       "      <td>0.72371</td>\n",
       "      <td>0.61985</td>\n",
       "      <td>...</td>\n",
       "      <td>0.58324</td>\n",
       "      <td>0.60528</td>\n",
       "      <td>0.57960</td>\n",
       "      <td>0.66450</td>\n",
       "      <td>0.72926</td>\n",
       "      <td>0.60547</td>\n",
       "      <td>0.54618</td>\n",
       "      <td>0.53353</td>\n",
       "      <td>0.54831</td>\n",
       "      <td>0.70491</td>\n",
       "    </tr>\n",
       "    <tr>\n",
       "      <th>AACY020414384</th>\n",
       "      <td>1.16393</td>\n",
       "      <td>1.17384</td>\n",
       "      <td>1.17911</td>\n",
       "      <td>0.00000</td>\n",
       "      <td>1.40588</td>\n",
       "      <td>0.18569</td>\n",
       "      <td>1.26417</td>\n",
       "      <td>1.30331</td>\n",
       "      <td>1.32882</td>\n",
       "      <td>1.03252</td>\n",
       "      <td>...</td>\n",
       "      <td>1.18835</td>\n",
       "      <td>1.21039</td>\n",
       "      <td>1.18471</td>\n",
       "      <td>1.26961</td>\n",
       "      <td>1.33437</td>\n",
       "      <td>1.17466</td>\n",
       "      <td>1.17429</td>\n",
       "      <td>1.16164</td>\n",
       "      <td>1.17642</td>\n",
       "      <td>1.31002</td>\n",
       "    </tr>\n",
       "    <tr>\n",
       "      <th>AACY020539760</th>\n",
       "      <td>1.20581</td>\n",
       "      <td>0.64720</td>\n",
       "      <td>0.80077</td>\n",
       "      <td>1.40588</td>\n",
       "      <td>0.00000</td>\n",
       "      <td>1.35703</td>\n",
       "      <td>0.77107</td>\n",
       "      <td>0.87111</td>\n",
       "      <td>0.80218</td>\n",
       "      <td>0.84662</td>\n",
       "      <td>...</td>\n",
       "      <td>0.66171</td>\n",
       "      <td>0.68375</td>\n",
       "      <td>0.65807</td>\n",
       "      <td>0.74297</td>\n",
       "      <td>0.80773</td>\n",
       "      <td>0.83224</td>\n",
       "      <td>0.79595</td>\n",
       "      <td>0.78330</td>\n",
       "      <td>0.79808</td>\n",
       "      <td>0.78338</td>\n",
       "    </tr>\n",
       "  </tbody>\n",
       "</table>\n",
       "<p>5 rows × 18567 columns</p>\n",
       "</div>"
      ],
      "text/plain": [
       "               AAAA02048336  AACY020061762  AACY020170993  AACY020414384  \\\n",
       "AAAA02048336        0.00000        0.97377        0.97904        1.16393   \n",
       "AACY020061762       0.97377        0.00000        0.56873        1.17384   \n",
       "AACY020170993       0.97904        0.56873        0.00000        1.17911   \n",
       "AACY020414384       1.16393        1.17384        1.17911        0.00000   \n",
       "AACY020539760       1.20581        0.64720        0.80077        1.40588   \n",
       "\n",
       "               AACY020539760  AACY023242300  AACY023337690  AACY023514927  \\\n",
       "AAAA02048336         1.20581        1.11508        1.06410        1.10324   \n",
       "AACY020061762        0.64720        1.12499        0.53903        0.63907   \n",
       "AACY020170993        0.80077        1.13026        0.65906        0.69820   \n",
       "AACY020414384        1.40588        0.18569        1.26417        1.30331   \n",
       "AACY020539760        0.00000        1.35703        0.77107        0.87111   \n",
       "\n",
       "               AAQJ02000001  AB003934   ...      Z49728   Z49729   Z49733  \\\n",
       "AAAA02048336        1.12875   0.83245   ...     0.98828  1.01032  0.98464   \n",
       "AACY020061762       0.48432   0.61458   ...     0.34385  0.36589  0.34021   \n",
       "AACY020170993       0.72371   0.61985   ...     0.58324  0.60528  0.57960   \n",
       "AACY020414384       1.32882   1.03252   ...     1.18835  1.21039  1.18471   \n",
       "AACY020539760       0.80218   0.84662   ...     0.66171  0.68375  0.65807   \n",
       "\n",
       "                Z49735   Z76663   Z95718   Z95727   Z95729   Z95732   Z96085  \n",
       "AAAA02048336   1.06954  1.13430  0.97459  0.97422  0.96157  0.97635  1.10995  \n",
       "AACY020061762  0.42511  0.46343  0.60020  0.56391  0.55126  0.56604  0.42622  \n",
       "AACY020170993  0.66450  0.72926  0.60547  0.54618  0.53353  0.54831  0.70491  \n",
       "AACY020414384  1.26961  1.33437  1.17466  1.17429  1.16164  1.17642  1.31002  \n",
       "AACY020539760  0.74297  0.80773  0.83224  0.79595  0.78330  0.79808  0.78338  \n",
       "\n",
       "[5 rows x 18567 columns]"
      ]
     },
     "execution_count": 5,
     "metadata": {},
     "output_type": "execute_result"
    }
   ],
   "source": [
    "#Sort phylogenetic distances by taxa name\n",
    "phy_dists_sort = phy_dists.reindex(sorted(phy_dists.columns), axis = 1)\n",
    "phy_dists_sort = phy_dists_sort.reindex(sorted(phy_dists.columns), axis = 0)\n",
    "phy_dists = phy_dists_sort\n",
    "phy_dists.head()"
   ]
  },
  {
   "cell_type": "code",
   "execution_count": 6,
   "metadata": {},
   "outputs": [],
   "source": [
    "#Calculate distances between taxa using metric = cosine dissimilarity between quality vectors\n",
    "from sklearn.metrics import pairwise_distances\n",
    "qual_vec_dists = pairwise_distances(qual_vecs, metric=\"cosine\")\n",
    "taxa = qual_vecs.index.values\n",
    "qual_vec_dists = pd.DataFrame(qual_vec_dists, index = taxa, columns = taxa)"
   ]
  },
  {
   "cell_type": "code",
   "execution_count": 8,
   "metadata": {},
   "outputs": [],
   "source": []
  },
  {
   "cell_type": "code",
   "execution_count": 7,
   "metadata": {},
   "outputs": [],
   "source": [
    "#Only keep phylogenetic distances between taxa that we have quality vector distances for\n",
    "keep = [phy_dists.index.values[i] in taxa for i in range(phy_dists.shape[0])]\n",
    "phy_dists = phy_dists.loc[keep, taxa]"
   ]
  },
  {
   "cell_type": "code",
   "execution_count": 8,
   "metadata": {},
   "outputs": [],
   "source": [
    "#Pick 1000 random rows\n",
    "rand_row = np.random.choice(range(phy_dists.shape[0]), 10000)\n",
    "phy_dists_small = phy_dists.iloc[rand_row, :]\n",
    "qual_dists_small = qual_vec_dists.iloc[rand_row, :]\n",
    "taxa = phy_dists_small.index.values"
   ]
  },
  {
   "cell_type": "code",
   "execution_count": 9,
   "metadata": {},
   "outputs": [],
   "source": [
    "#Turn matrices into vectors\n",
    "phy_dists_vec = np.array([i for sublist in np.array(phy_dists_small) for i in sublist])\n",
    "qual_dists_vec = np.array([i for sublist in np.array(qual_dists_small) for i in sublist])\n",
    "taxa_pairs = np.array([(i, j) for i in phy_dists_small.index.values for j in phy_dists_small.columns.values])"
   ]
  },
  {
   "cell_type": "code",
   "execution_count": 10,
   "metadata": {},
   "outputs": [
    {
     "name": "stdout",
     "output_type": "stream",
     "text": [
      "Pearson Coefficient: 0.040946800105165874\n",
      "Pearson P-value: 0.0\n"
     ]
    },
    {
     "data": {
      "image/png": "[encoded data removed]",
      "text/plain": [
       "<Figure size 432x288 with 1 Axes>"
      ]
     },
     "metadata": {},
     "output_type": "display_data"
    }
   ],
   "source": [
    "#Plot the relationship between phylogenetic distances and embedding distances\n",
    "end_range = 1000000\n",
    "x = phy_dists_vec[0:end_range]\n",
    "y = qual_dists_vec[0:end_range]\n",
    "slope, intercept, r_value, p_value, std_err = stats.linregress(x,y)\n",
    "line = slope*x+intercept\n",
    "plt.plot(x,y,'o', color = \"#AC76C8\")\n",
    "plt.plot(x, line, color = \"orange\")\n",
    "plt.xlabel(\"Phylogenetic Distance\")\n",
    "plt.ylabel(\"Embedding Distance\")\n",
    "\n",
    "#Correlation\n",
    "corr = pearsonr(x,y)\n",
    "print(\"Pearson Coefficient: \" + str(corr[0]))\n",
    "print(\"Pearson P-value: \" + str(corr[1]))"
   ]
  },
  {
   "cell_type": "code",
   "execution_count": null,
   "metadata": {},
   "outputs": [],
   "source": [
    "qual_dists_vec_neg = 0 - qual_dists_vec\n",
    "add = qual_dists_vec_neg + phy_dists_vec\n",
    "sort_ind = np.argsort(add)"
   ]
  },
  {
   "cell_type": "code",
   "execution_count": null,
   "metadata": {},
   "outputs": [],
   "source": [
    "numFeatures = 1500\n",
    "i = 0\n",
    "taxa_pairs_keep = []\n",
    "taxa_keep = set()\n",
    "numFeaturesSelected = 0\n",
    "while numFeaturesSelected < numFeatures:\n",
    "    pair = taxa_pairs[sort_ind[i]]\n",
    "    taxa_keep.add(pair[0])\n",
    "    taxa_keep.add(pair[1])\n",
    "    numFeaturesSelected = len(taxa_keep)\n",
    "    i = i + 1\n",
    "    \n",
    "print(\"Number of taxa: \" + str(len(taxa_keep)))"
   ]
  },
  {
   "cell_type": "code",
   "execution_count": 11,
   "metadata": {},
   "outputs": [
    {
     "data": {
      "text/plain": [
       "10000"
      ]
     },
     "execution_count": 11,
     "metadata": {},
     "output_type": "execute_result"
    }
   ],
   "source": []
  },
  {
   "cell_type": "code",
   "execution_count": 151,
   "metadata": {},
   "outputs": [],
   "source": [
    "\n",
    "file = open(\"feature_selection/taxa_lowphy_highcos.obj\", \"wb\")\n",
    "pickle.dump(taxa_keep, file)\n",
    "file.close()"
   ]
  },
  {
   "cell_type": "code",
   "execution_count": null,
   "metadata": {},
   "outputs": [],
   "source": []
  },
  {
   "cell_type": "code",
   "execution_count": null,
   "metadata": {},
   "outputs": [],
   "source": []
  },
  {
   "cell_type": "markdown",
   "metadata": {},
   "source": [
    "Old code + graphing utility"
   ]
  },
  {
   "cell_type": "code",
   "execution_count": 13,
   "metadata": {},
   "outputs": [],
   "source": [
    "slope = 1.1\n",
    "intercept = 0.8\n",
    "y = [slope * i + intercept for i in phy]\n",
    "\n"
   ]
  },
  {
   "cell_type": "code",
   "execution_count": 65,
   "metadata": {},
   "outputs": [
    {
     "ename": "IndexError",
     "evalue": "boolean index did not match indexed array along dimension 0; dimension is 11132000 but corresponding boolean dimension is 89251",
     "output_type": "error",
     "traceback": [
      "\u001b[1;31m---------------------------------------------------------------------------\u001b[0m",
      "\u001b[1;31mIndexError\u001b[0m                                Traceback (most recent call last)",
      "\u001b[1;32m<ipython-input-65-9b05f919787e>\u001b[0m in \u001b[0;36m<module>\u001b[1;34m()\u001b[0m\n\u001b[0;32m      2\u001b[0m \u001b[1;33m\u001b[0m\u001b[0m\n\u001b[0;32m      3\u001b[0m \u001b[0mtaxa_keep\u001b[0m \u001b[1;33m=\u001b[0m \u001b[0mset\u001b[0m\u001b[1;33m(\u001b[0m\u001b[1;33m)\u001b[0m\u001b[1;33m\u001b[0m\u001b[0m\n\u001b[1;32m----> 4\u001b[1;33m \u001b[1;32mfor\u001b[0m \u001b[0mpair\u001b[0m \u001b[1;32min\u001b[0m \u001b[0mnp\u001b[0m\u001b[1;33m.\u001b[0m\u001b[0marray\u001b[0m\u001b[1;33m(\u001b[0m\u001b[0mtaxa_pairs\u001b[0m\u001b[1;33m)\u001b[0m\u001b[1;33m[\u001b[0m\u001b[0mkeep\u001b[0m\u001b[1;33m]\u001b[0m\u001b[1;33m:\u001b[0m\u001b[1;33m\u001b[0m\u001b[0m\n\u001b[0m\u001b[0;32m      5\u001b[0m     \u001b[0mtaxa_keep\u001b[0m\u001b[1;33m.\u001b[0m\u001b[0madd\u001b[0m\u001b[1;33m(\u001b[0m\u001b[0mpair\u001b[0m\u001b[1;33m[\u001b[0m\u001b[1;36m0\u001b[0m\u001b[1;33m]\u001b[0m\u001b[1;33m)\u001b[0m\u001b[1;33m\u001b[0m\u001b[0m\n\u001b[0;32m      6\u001b[0m     \u001b[0mtaxa_keep\u001b[0m\u001b[1;33m.\u001b[0m\u001b[0madd\u001b[0m\u001b[1;33m(\u001b[0m\u001b[0mpair\u001b[0m\u001b[1;33m[\u001b[0m\u001b[1;36m1\u001b[0m\u001b[1;33m]\u001b[0m\u001b[1;33m)\u001b[0m\u001b[1;33m\u001b[0m\u001b[0m\n",
      "\u001b[1;31mIndexError\u001b[0m: boolean index did not match indexed array along dimension 0; dimension is 11132000 but corresponding boolean dimension is 89251"
     ]
    }
   ],
   "source": [
    "keep = [cosine[i] > y[i] for i in range(len(phy))]\n",
    "\n",
    "taxa_keep = set()\n",
    "for pair in np.array(taxa_pairs)[keep]:\n",
    "    taxa_keep.add(pair[0])\n",
    "    taxa_keep.add(pair[1])\n",
    "print(\"Number of taxa: \" + str(len(taxa_keep)))"
   ]
  },
  {
   "cell_type": "code",
   "execution_count": 11,
   "metadata": {},
   "outputs": [],
   "source": [
    "file = open(\"taxa_lowphy_highcos.obj\", \"wb\")\n",
    "pickle.dump(taxa_keep, file)\n",
    "file.close()"
   ]
  },
  {
   "cell_type": "code",
   "execution_count": 15,
   "metadata": {},
   "outputs": [
    {
     "data": {
      "text/plain": [
       "[<matplotlib.lines.Line2D at 0x2026130c4e0>]"
      ]
     },
     "execution_count": 15,
     "metadata": {},
     "output_type": "execute_result"
    },
    {
     "data": {
      "image/png": "[encoded data removed]",
      "text/plain": [
       "<Figure size 432x288 with 1 Axes>"
      ]
     },
     "metadata": {},
     "output_type": "display_data"
    }
   ],
   "source": [
    "plt.scatter(phy[0:100000], cosine[0:100000])\n",
    "x = [i * .1 for i in range(6)]\n",
    "plt.plot(x,[slope * i + intercept for i in x] , color = \"red\")"
   ]
  },
  {
   "cell_type": "code",
   "execution_count": 69,
   "metadata": {},
   "outputs": [],
   "source": []
  },
  {
   "cell_type": "code",
   "execution_count": 70,
   "metadata": {},
   "outputs": [
    {
     "name": "stdout",
     "output_type": "stream",
     "text": [
      "[1.33526327 1.32580517 1.29521601 1.27690225 1.27355639 1.27327988\n",
      " 1.30040277 1.32775647 1.25672926 1.25671563]\n",
      "[0.      0.03006 0.      0.      0.      0.      0.03478 0.06482 0.\n",
      " 0.     ]\n"
     ]
    }
   ],
   "source": []
  },
  {
   "cell_type": "code",
   "execution_count": 73,
   "metadata": {},
   "outputs": [
    {
     "name": "stdout",
     "output_type": "stream",
     "text": [
      "JX489958\n",
      "FJ437855\n",
      "1.06155\n"
     ]
    },
    {
     "data": {
      "text/plain": [
       "1.2769022495518947"
      ]
     },
     "execution_count": 73,
     "metadata": {},
     "output_type": "execute_result"
    }
   ],
   "source": [
    "print(taxa_pairs_keep[0][0])\n",
    "print(taxa_pairs_keep[0][1])\n",
    "print(phy_dists[taxa_pairs_keep[0][0]][taxa_pairs_keep[0][1]])\n",
    "qual_vec_dists_pd[taxa_pairs_keep[0][0]][taxa_pairs_keep[0][1]]\n",
    "qual_vec_dists_pd[taxa_pairs_keep[1][0]][taxa_pairs_keep[1][1]]\n",
    "qual_vec_dists_pd[taxa_pairs_keep[3][0]][taxa_pairs_keep[3][1]]"
   ]
  }
 ],
 "metadata": {
  "kernelspec": {
   "display_name": "Python 3",
   "language": "python",
   "name": "python3"
  },
  "language_info": {
   "codemirror_mode": {
    "name": "ipython",
    "version": 3
   },
   "file_extension": ".py",
   "mimetype": "text/x-python",
   "name": "python",
   "nbconvert_exporter": "python",
   "pygments_lexer": "ipython3",
   "version": "3.5.5"
  }
 },
 "nbformat": 4,
 "nbformat_minor": 2
}
