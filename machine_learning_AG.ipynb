{
 "cells": [
  {
   "cell_type": "code",
   "execution_count": 1,
   "metadata": {},
   "outputs": [],
   "source": [
    "import pandas as pd\n",
    "import numpy as np\n",
    "import helper_functions as hf\n",
    "import pickle\n",
    "import matplotlib.pyplot as plt\n",
    "from sklearn import preprocessing\n",
    "import importlib\n",
    "importlib.reload(hf)\n",
    "import math\n",
    "import copy\n"
   ]
  },
  {
   "cell_type": "code",
   "execution_count": 219,
   "metadata": {},
   "outputs": [
    {
     "name": "stdout",
     "output_type": "stream",
     "text": [
      "Original data dimensions\n",
      "Taxa: 21979  Samples: 15475\n"
     ]
    },
    {
     "name": "stderr",
     "output_type": "stream",
     "text": [
      "c:\\users\\ctata\\miniconda3\\lib\\site-packages\\IPython\\core\\interactiveshell.py:2785: DtypeWarning: Columns (0) have mixed types. Specify dtype option on import or set low_memory=False.\n",
      "  interactivity=interactivity, compiler=compiler, result=result)\n"
     ]
    },
    {
     "name": "stdout",
     "output_type": "stream",
     "text": [
      "Filter for taxa present in embeddings\n",
      "Taxa: 14336  Samples: 15475\n"
     ]
    },
    {
     "name": "stderr",
     "output_type": "stream",
     "text": [
      "c:\\users\\ctata\\miniconda3\\lib\\site-packages\\ipykernel_launcher.py:12: FutureWarning: elementwise comparison failed; returning scalar instead, but in the future will perform elementwise comparison\n",
      "  if sys.path[0] == '':\n"
     ]
    }
   ],
   "source": [
    "otu = pd.read_csv(\"data/AG_new/otu_filtered_AG_02perc.csv\", sep = \"\\t\", index_col=0)\n",
    "#Delete samples that have no taxa\n",
    "#otu = otu.loc[:, otu.sum(axis=0) != 0]\n",
    "otu.head()\n",
    "print(\"Original data dimensions\")\n",
    "print(\"Taxa: \" + str(otu.shape[0]) + \"  Samples: \" + str(otu.shape[1]))\n",
    "\n",
    "#Format quality vector matrices\n",
    "qual_vecs = pd.read_csv(\"embeddings/AG_new/glove_emb_AG_new_02perc_500_bodysite.txt\", sep = \" \", index_col = 0, header=None)\n",
    "otu_clean = otu.loc[[i in qual_vecs.index.values for i in otu.index.values]] #Keep taxa if present in quality vectors\n",
    "otu_clean = otu_clean.reindex(sorted(otu_clean.index.values), axis = 0) #Sort taxa\n",
    "qual_vecs_clean = qual_vecs.loc[[i in otu_clean.index.values for i in qual_vecs.index.values]] #keep taxa if present in otu\n",
    "qual_vecs_clean = qual_vecs_clean.reindex(sorted(qual_vecs_clean.index.values), axis = 0) #Sort taxa\n",
    "print(\"Filter for taxa present in embeddings\")\n",
    "print(\"Taxa: \" + str(otu_clean.shape[0]) + \"  Samples: \" + str(otu_clean.shape[1]))\n",
    "\n",
    "\n"
   ]
  },
  {
   "cell_type": "code",
   "execution_count": 220,
   "metadata": {},
   "outputs": [
    {
     "name": "stderr",
     "output_type": "stream",
     "text": [
      "c:\\users\\ctata\\miniconda3\\lib\\site-packages\\IPython\\core\\interactiveshell.py:2785: DtypeWarning: Columns (0,81) have mixed types. Specify dtype option on import or set low_memory=False.\n",
      "  interactivity=interactivity, compiler=compiler, result=result)\n",
      "c:\\users\\ctata\\miniconda3\\lib\\site-packages\\ipykernel_launcher.py:2: FutureWarning: \n",
      "Passing list-likes to .loc or [] with any missing label will raise\n",
      "KeyError in the future, you can use .reindex() as an alternative.\n",
      "\n",
      "See the documentation here:\n",
      "https://pandas.pydata.org/pandas-docs/stable/indexing.html#deprecate-loc-reindex-listlike\n",
      "  \n"
     ]
    },
    {
     "name": "stdout",
     "output_type": "stream",
     "text": [
      "Samples originally: 15475\n",
      "Samples after categorical filter: 11645\n",
      "Samples after numerical filter: 6447\n",
      "Filter for desired metadata present\n",
      "Samples: 6447  Taxa: 14336\n",
      "(5847, 14336)\n",
      "(5847, 17)\n",
      "(600, 14336)\n",
      "(600, 17)\n"
     ]
    }
   ],
   "source": [
    "mapping = pd.read_csv(\"data/AG_new/AG_mapping.txt\", sep = \"\\t\", index_col=0)\n",
    "map_clean = mapping.loc[otu_clean.columns.values] #Keep samples if present in otu\n",
    "map_clean = map_clean.reindex(sorted(map_clean.index.values))\n",
    "otu_clean = otu_clean.reindex(sorted(otu_clean.columns.values), axis = 1)\n",
    "\n",
    "keep = [True] * map_clean.shape[0]\n",
    "print(\"Samples originally: \" + str(sum(keep)))\n",
    "for criteria in cat_criteria:\n",
    "    #Keep sample if it has desired metadata available\n",
    "    keep_tmp = [( (i != \"Unknown\") and (i != \"Unspecified\") and (i!=\"other\" ) and (i != \"unspecified\") )  for i in map_clean[criteria]] \n",
    "    keep = [(i and j) for (i,j) in zip(keep, keep_tmp)]\n",
    "print(\"Samples after categorical filter: \" + str(sum(keep)))\n",
    "\n",
    "for criteria in number_criteria:\n",
    "    keep_tmp = [hf.is_number(i) for i in map_clean[criteria]]\n",
    "    keep = [i and j for (i,j) in zip(keep, keep_tmp)] \n",
    "print(\"Samples after numerical filter: \" + str(sum(keep)))\n",
    "\n",
    "\n",
    "otu_keep = otu_clean.loc[:, keep]\n",
    "map_keep = map_clean.loc[keep, cat_criteria + number_criteria]   \n",
    "otu_keep = otu_keep.T\n",
    "\n",
    "print(\"Filter for desired metadata present\")\n",
    "print(\"Samples: \" + str(otu_keep.shape[0]) + \"  Taxa: \" + str(otu_keep.shape[1]))\n",
    "\n",
    "#Make train/test set\n",
    "f = open(\"data/AG_new/AG_test_samples.obj\", \"rb\")\n",
    "test_samples = pickle.load(f)\n",
    "f.close\n",
    "\n",
    "test_samples = test_samples[[i in otu_keep.index.values for i in test_samples]] #Only include ids that we haven't dropped in previous steps\n",
    "otu_train = otu_keep.loc[[not(i in test_samples) for i in otu_keep.index.values], :]\n",
    "otu_test = otu_keep.loc[[i in test_samples for i in otu_keep.index.values], :]\n",
    "\n",
    "map_train = map_keep.loc[[not(i in test_samples) for i in map_keep.index.values], :]\n",
    "map_test = map_keep.loc[[i in test_samples for i in map_keep.index.values], :]\n",
    "\n",
    "print(otu_train.shape)\n",
    "print(map_train.shape)\n",
    "print(otu_test.shape)\n",
    "print(map_test.shape)"
   ]
  },
  {
   "cell_type": "code",
   "execution_count": 21,
   "metadata": {},
   "outputs": [
    {
     "name": "stdout",
     "output_type": "stream",
     "text": [
      "Original data dimensions\n",
      "Taxa: 21979  Samples: 15475\n"
     ]
    },
    {
     "name": "stderr",
     "output_type": "stream",
     "text": [
      "c:\\users\\ctata\\miniconda3\\lib\\site-packages\\IPython\\core\\interactiveshell.py:2903: DtypeWarning: Columns (0) have mixed types. Specify dtype option on import or set low_memory=False.\n",
      "  if self.run_code(code, result):\n",
      "C:\\Users\\ctata\\Documents\\Lab\\quality_vectors\\helper_functions.py:35: FutureWarning: elementwise comparison failed; returning scalar instead, but in the future will perform elementwise comparison\n",
      "  qual_vecs_clean = qual_vecs.loc[[i in otu_clean.index.values for i in qual_vecs.index.values]] #keep taxa if present in otu\n"
     ]
    },
    {
     "name": "stdout",
     "output_type": "stream",
     "text": [
      "Filter for taxa present in embeddings\n",
      "Taxa: 14336  Samples: 15475\n"
     ]
    },
    {
     "name": "stderr",
     "output_type": "stream",
     "text": [
      "c:\\users\\ctata\\miniconda3\\lib\\site-packages\\IPython\\core\\interactiveshell.py:2903: DtypeWarning: Columns (0,81) have mixed types. Specify dtype option on import or set low_memory=False.\n",
      "  if self.run_code(code, result):\n",
      "C:\\Users\\ctata\\Documents\\Lab\\quality_vectors\\helper_functions.py:42: FutureWarning: \n",
      "Passing list-likes to .loc or [] with any missing label will raise\n",
      "KeyError in the future, you can use .reindex() as an alternative.\n",
      "\n",
      "See the documentation here:\n",
      "https://pandas.pydata.org/pandas-docs/stable/indexing.html#deprecate-loc-reindex-listlike\n",
      "  map_clean = mapping.loc[otu_clean.columns.values] #Keep samples if present in otu\n"
     ]
    },
    {
     "ename": "TypeError",
     "evalue": "'<' not supported between instances of 'str' and 'float'",
     "output_type": "error",
     "traceback": [
      "\u001b[1;31m---------------------------------------------------------------------------\u001b[0m",
      "\u001b[1;31mTypeError\u001b[0m                                 Traceback (most recent call last)",
      "\u001b[1;32m<ipython-input-21-6b6063117496>\u001b[0m in \u001b[0;36m<module>\u001b[1;34m()\u001b[0m\n\u001b[0;32m     11\u001b[0m          \u001b[1;34m\"SLEEP_DURATION\"\u001b[0m\u001b[1;33m,\u001b[0m \u001b[1;34m\"SUGAR_SWEETENED_DRINK_FREQUENCY\"\u001b[0m\u001b[1;33m,\u001b[0m \u001b[1;34m\"MILK_CHEESE_FREQUENCY\"\u001b[0m\u001b[1;33m,\u001b[0m\u001b[1;33m\u001b[0m\u001b[0m\n\u001b[0;32m     12\u001b[0m          \"RED_MEAT_FREQUENCY\",\"MEAT_EGGS_FREQUENCY\", \"VEGETABLE_FREQUENCY\", \"BODY_SITE\"]\n\u001b[1;32m---> 13\u001b[1;33m \u001b[0motu_train\u001b[0m\u001b[1;33m,\u001b[0m \u001b[0motu_test\u001b[0m\u001b[1;33m,\u001b[0m \u001b[0mqual_vecs\u001b[0m\u001b[1;33m,\u001b[0m \u001b[0mmap_train\u001b[0m\u001b[1;33m,\u001b[0m \u001b[0mmap_test\u001b[0m \u001b[1;33m=\u001b[0m \u001b[0mhf\u001b[0m\u001b[1;33m.\u001b[0m\u001b[0mgetDataAG\u001b[0m\u001b[1;33m(\u001b[0m\u001b[0mnumber_criteria\u001b[0m\u001b[1;33m,\u001b[0m \u001b[0mcat_criteria\u001b[0m\u001b[1;33m)\u001b[0m\u001b[1;33m\u001b[0m\u001b[0m\n\u001b[0m",
      "\u001b[1;32m~\\Documents\\Lab\\quality_vectors\\helper_functions.py\u001b[0m in \u001b[0;36mgetDataAG\u001b[1;34m(number_criteria, cat_criteria)\u001b[0m\n\u001b[0;32m     42\u001b[0m     \u001b[0mmap_clean\u001b[0m \u001b[1;33m=\u001b[0m \u001b[0mmapping\u001b[0m\u001b[1;33m.\u001b[0m\u001b[0mloc\u001b[0m\u001b[1;33m[\u001b[0m\u001b[0motu_clean\u001b[0m\u001b[1;33m.\u001b[0m\u001b[0mcolumns\u001b[0m\u001b[1;33m.\u001b[0m\u001b[0mvalues\u001b[0m\u001b[1;33m]\u001b[0m \u001b[1;31m#Keep samples if present in otu\u001b[0m\u001b[1;33m\u001b[0m\u001b[0m\n\u001b[0;32m     43\u001b[0m     \u001b[0mmap_clean\u001b[0m \u001b[1;33m=\u001b[0m \u001b[0mmap_clean\u001b[0m\u001b[1;33m.\u001b[0m\u001b[0mreindex\u001b[0m\u001b[1;33m(\u001b[0m\u001b[0msorted\u001b[0m\u001b[1;33m(\u001b[0m\u001b[0mmap_clean\u001b[0m\u001b[1;33m.\u001b[0m\u001b[0mindex\u001b[0m\u001b[1;33m.\u001b[0m\u001b[0mvalues\u001b[0m\u001b[1;33m)\u001b[0m\u001b[1;33m)\u001b[0m\u001b[1;33m\u001b[0m\u001b[0m\n\u001b[1;32m---> 44\u001b[1;33m     \u001b[0motu_clean\u001b[0m \u001b[1;33m=\u001b[0m \u001b[0motu_clean\u001b[0m\u001b[1;33m.\u001b[0m\u001b[0mreindex\u001b[0m\u001b[1;33m(\u001b[0m\u001b[0msorted\u001b[0m\u001b[1;33m(\u001b[0m\u001b[0motu_clean\u001b[0m\u001b[1;33m.\u001b[0m\u001b[0mcolumns\u001b[0m\u001b[1;33m.\u001b[0m\u001b[0mvalues\u001b[0m\u001b[1;33m)\u001b[0m\u001b[1;33m,\u001b[0m \u001b[0maxis\u001b[0m \u001b[1;33m=\u001b[0m \u001b[1;36m1\u001b[0m\u001b[1;33m)\u001b[0m\u001b[1;33m\u001b[0m\u001b[0m\n\u001b[0m\u001b[0;32m     45\u001b[0m \u001b[1;33m\u001b[0m\u001b[0m\n\u001b[0;32m     46\u001b[0m \u001b[1;33m\u001b[0m\u001b[0m\n",
      "\u001b[1;31mTypeError\u001b[0m: '<' not supported between instances of 'str' and 'float'"
     ]
    }
   ],
   "source": [
    "#Rerunning glove to create quality vectors excluding test set\n",
    "\n",
    "#metadata = [\"AGE_CORRECTED\", \"BMI\", \"EXERCISE_FREQUENCY\", \"DOG\", \"ONE_LITER_OF_WATER_A_DAY_FREQUENCY\", \n",
    "#         \"COUNTRY\", \"SEX\", \"SEAFOOD_FREQUENCY\", \"PROBIOTIC_FREQUENCY\", \"OLIVE_OIL\", \"FRUIT_FREQUENCY\", \n",
    "#         \"SLEEP_DURATION\", \"RACE\", \"SUGAR_SWEETENED_DRINK_FREQUENCY\", \"MILK_CHEESE_FREQUENCY\",\n",
    "#         \"DRINKING_WATER_SOURCE\",\"RED_MEAT_FREQUENCY\",\"MEAT_EGGS_FREQUENCY\", \"VEGETABLE_FREQUENCY\"]\n",
    "\n",
    "number_criteria = [\"BMI\", \"AGE_CORRECTED\"]\n",
    "cat_criteria = [\"EXERCISE_FREQUENCY\", \"SEX\", \"DOG\", \"ONE_LITER_OF_WATER_A_DAY_FREQUENCY\", \n",
    "        \"SEAFOOD_FREQUENCY\", \"PROBIOTIC_FREQUENCY\", \"OLIVE_OIL\", \"FRUIT_FREQUENCY\", \n",
    "         \"SLEEP_DURATION\", \"SUGAR_SWEETENED_DRINK_FREQUENCY\", \"MILK_CHEESE_FREQUENCY\",\n",
    "         \"RED_MEAT_FREQUENCY\",\"MEAT_EGGS_FREQUENCY\", \"VEGETABLE_FREQUENCY\", \"BODY_SITE\"]\n",
    "otu_train, otu_test, qual_vecs, map_train, map_test = hf.getDataAG(number_criteria, cat_criteria)"
   ]
  },
  {
   "cell_type": "markdown",
   "metadata": {},
   "source": [
    "f = open(\"data/AG_new/otu_train.obj\", \"rb\")\n",
    "otu_train = pickle.load(f)\n",
    "f.close()\n",
    "\n",
    "f = open(\"data/AG_new/otu_test.obj\", \"rb\")\n",
    "otu_test = pickle.load(f)\n",
    "f.close()\n",
    "\n",
    "f = open(\"data/AG_new/qual_vecs.obj\", \"rb\")\n",
    "qual_vecs = pickle.load(f)\n",
    "f.close()\n",
    "\n",
    "f = open(\"data/AG_new/map_train.obj\", \"rb\")\n",
    "map_train = pickle.load(f)\n",
    "f.close()\n",
    "\n",
    "f = open(\"data/AG_new/map_test.obj\", \"rb\")\n",
    "map_test = pickle.load(f)\n",
    "f.close()"
   ]
  },
  {
   "cell_type": "code",
   "execution_count": 28,
   "metadata": {},
   "outputs": [],
   "source": [
    "\n",
    "f = open(\"data/AG_new/otu_train.obj\", \"wb\")\n",
    "pickle.dump(otu_train_filt, f)\n",
    "f.close()\n",
    "\n",
    "f = open(\"data/AG_new/otu_test.obj\", \"wb\")\n",
    "pickle.dump(otu_test_filt, f)\n",
    "f.close()\n",
    "\n",
    "f = open(\"data/AG_new/qual_vecs.obj\", \"wb\")\n",
    "pickle.dump(qual_vecs, f)\n",
    "f.close()\n",
    "\n",
    "f = open(\"data/AG_new/map_train.obj\", \"wb\")\n",
    "pickle.dump(map_train, f)\n",
    "f.close()\n",
    "\n",
    "f = open(\"data/AG_new/map_test.obj\", \"wb\")\n",
    "pickle.dump(map_test, f)\n",
    "f.close()\n",
    "\n",
    "otu_train_filt.to_csv(\"data/AG_new/otu_train.csv\", header = True, index = True, index_label = \"Sample\")\n",
    "otu_test_filt.to_csv(\"data/AG_new/otu_test.csv\", header = True, index = True, index_label = \"Sample\")"
   ]
  },
  {
   "cell_type": "markdown",
   "metadata": {},
   "source": [
    "Write out OTU table and representative sequences for piphillan functional prediction. The ultimate goal is to compare embeddings distances to functional distances as a form of general validation."
   ]
  },
  {
   "cell_type": "code",
   "execution_count": 174,
   "metadata": {},
   "outputs": [],
   "source": [
    "qual_vecs.to_csv(\"data/AG_new/qual_vecs.csv\", header = True, index = True, index_label = \"OTU\")"
   ]
  },
  {
   "cell_type": "code",
   "execution_count": 171,
   "metadata": {},
   "outputs": [
    {
     "name": "stdout",
     "output_type": "stream",
     "text": [
      "(5820, 10498)\n"
     ]
    }
   ],
   "source": [
    "f = open(\"data/AG_new/otu_train.obj\", \"wb\")\n",
    "pickle.dump(otu_train_filt, f)\n",
    "f.close()\n",
    "print(otu_train_filt.shape)"
   ]
  },
  {
   "cell_type": "code",
   "execution_count": null,
   "metadata": {},
   "outputs": [],
   "source": []
  },
  {
   "cell_type": "code",
   "execution_count": 276,
   "metadata": {},
   "outputs": [],
   "source": [
    "map_train.iloc[0:10, 0:10].to_csv(\"map_tmp.csv\")"
   ]
  },
  {
   "cell_type": "code",
   "execution_count": 8,
   "metadata": {},
   "outputs": [
    {
     "ename": "NameError",
     "evalue": "name 'otu_train_filt' is not defined",
     "output_type": "error",
     "traceback": [
      "\u001b[1;31m---------------------------------------------------------------------------\u001b[0m",
      "\u001b[1;31mNameError\u001b[0m                                 Traceback (most recent call last)",
      "\u001b[1;32m<ipython-input-8-e939cf692305>\u001b[0m in \u001b[0;36m<module>\u001b[1;34m()\u001b[0m\n\u001b[0;32m      2\u001b[0m     \u001b[1;32mreturn\u001b[0m\u001b[1;33m(\u001b[0m\u001b[0mnp\u001b[0m\u001b[1;33m.\u001b[0m\u001b[0mlog\u001b[0m\u001b[1;33m(\u001b[0m\u001b[0motu\u001b[0m \u001b[1;33m+\u001b[0m \u001b[1;36m1\u001b[0m\u001b[1;33m)\u001b[0m\u001b[1;33m)\u001b[0m\u001b[1;33m\u001b[0m\u001b[0m\n\u001b[0;32m      3\u001b[0m \u001b[1;33m\u001b[0m\u001b[0m\n\u001b[1;32m----> 4\u001b[1;33m \u001b[0motu_norm\u001b[0m \u001b[1;33m=\u001b[0m \u001b[0mlog_normalize\u001b[0m\u001b[1;33m(\u001b[0m\u001b[0motu_train_filt\u001b[0m\u001b[1;33m)\u001b[0m\u001b[1;33m\u001b[0m\u001b[0m\n\u001b[0m\u001b[0;32m      5\u001b[0m \u001b[0motu_norm_test\u001b[0m \u001b[1;33m=\u001b[0m \u001b[0mlog_normalize\u001b[0m\u001b[1;33m(\u001b[0m\u001b[0motu_test_filt\u001b[0m\u001b[1;33m)\u001b[0m\u001b[1;33m\u001b[0m\u001b[0m\n",
      "\u001b[1;31mNameError\u001b[0m: name 'otu_train_filt' is not defined"
     ]
    }
   ],
   "source": [
    "def log_normalize(otu):\n",
    "    return(np.log(otu + 1))\n",
    "\n",
    "otu_norm = log_normalize(otu_train_filt)\n",
    "otu_norm_test = log_normalize(otu_test_filt)"
   ]
  },
  {
   "cell_type": "code",
   "execution_count": 146,
   "metadata": {},
   "outputs": [],
   "source": [
    "#otu_norm_rel = hf.normalize(otu_train_filt)\n",
    "#otu_norm_rel_test = hf.normalize(otu_test_filt)"
   ]
  },
  {
   "cell_type": "code",
   "execution_count": 140,
   "metadata": {},
   "outputs": [],
   "source": [
    "f = open(\"feature_selection/AG_new/ml_features_200_bodysite.obj\", \"rb\")\n",
    "ml_features = pickle.load(f)\n",
    "f.close()\n",
    "\n",
    "otu_ml = otu_norm[list(ml_features)]\n",
    "otu_ml_test = otu_norm_test[list(ml_features)]"
   ]
  },
  {
   "cell_type": "code",
   "execution_count": 160,
   "metadata": {},
   "outputs": [],
   "source": [
    "def randomfilter(otu, otu_test, numFeatures):\n",
    "    np.random.seed(15)\n",
    "    features = np.random.choice(otu.columns.values, numFeatures)\n",
    "    otu_rand = otu[list(features)]\n",
    "    otu_rand_test = otu_test[list(features)]\n",
    "    \n",
    "    return(otu_rand, otu_rand_test)\n",
    "\n",
    "otu_rand, otu_rand_test = randomfilter(otu_norm, otu_norm_test, otu_ml.shape[1])\n"
   ]
  },
  {
   "cell_type": "code",
   "execution_count": 31,
   "metadata": {},
   "outputs": [
    {
     "name": "stdout",
     "output_type": "stream",
     "text": [
      "5820\n",
      "598\n"
     ]
    }
   ],
   "source": [
    "criteria = \"BODY_SITE\"\n",
    "y_train = np.array(map_train[criteria])\n",
    "y_test = np.array(map_test[criteria])\n",
    "\n",
    "print(len(y_train))\n",
    "print(len(y_test))"
   ]
  },
  {
   "cell_type": "code",
   "execution_count": 2,
   "metadata": {},
   "outputs": [],
   "source": [
    "def embed(otu, qual_vecs):\n",
    "    qual_vecs_use = qual_vecs.loc[list(otu.columns.values)]\n",
    "    df = pd.DataFrame(np.dot(log_normalize(otu), qual_vecs_use), index = otu.index.values)\n",
    "    return(df)"
   ]
  },
  {
   "cell_type": "code",
   "execution_count": 3,
   "metadata": {},
   "outputs": [],
   "source": [
    "from sklearn.utils.multiclass import unique_labels\n",
    "def plot_confusion_matrix(y_true, y_pred, classes,\n",
    "                          normalize=True,\n",
    "                          title=None,\n",
    "                          cmap=plt.cm.Blues):\n",
    "    \"\"\"\n",
    "    This function prints and plots the confusion matrix.\n",
    "    Normalization can be applied by setting `normalize=True`.\n",
    "    \"\"\"\n",
    "    if not title:\n",
    "        if normalize:\n",
    "            title = 'Normalized confusion matrix'\n",
    "        else:\n",
    "            title = 'Confusion matrix, without normalization'\n",
    "\n",
    "    # Compute confusion matrix\n",
    "    cm = confusion_matrix(y_true, y_pred)\n",
    "    # Only use the labels that appear in the data\n",
    "\n",
    "    if normalize:\n",
    "        cm = cm.astype('float') / cm.sum(axis=1)[:, np.newaxis]\n",
    "        print(\"Normalized confusion matrix\")\n",
    "    else:\n",
    "        print('Confusion matrix, without normalization')\n",
    "\n",
    "    print(cm)\n",
    "\n",
    "    fig, ax = plt.subplots()\n",
    "    im = ax.imshow(cm, interpolation='nearest', cmap=cmap)\n",
    "    ax.figure.colorbar(im, ax=ax)\n",
    "    # We want to show all ticks...\n",
    "    ax.set(xticks=np.arange(cm.shape[1]),\n",
    "           yticks=np.arange(cm.shape[0]),\n",
    "           # ... and label them with the respective list entries\n",
    "           xticklabels=classes, yticklabels=classes,\n",
    "           title=title,\n",
    "           ylabel='True label',\n",
    "           xlabel='Predicted label')\n",
    "\n",
    "    # Rotate the tick labels and set their alignment.\n",
    "    plt.setp(ax.get_xticklabels(), rotation=45, ha=\"right\",\n",
    "             rotation_mode=\"anchor\")\n",
    "\n",
    "    # Loop over data dimensions and create text annotations.\n",
    "    fmt = '.2f' if normalize else 'd'\n",
    "    thresh = cm.max() / 2.\n",
    "    for i in range(cm.shape[0]):\n",
    "        for j in range(cm.shape[1]):\n",
    "            ax.text(j, i, format(cm[i, j], fmt),\n",
    "                    ha=\"center\", va=\"center\",\n",
    "                    color=\"white\" if cm[i, j] > thresh else \"black\")\n",
    "    fig.tight_layout()\n",
    "    return ax"
   ]
  },
  {
   "cell_type": "code",
   "execution_count": 5,
   "metadata": {},
   "outputs": [],
   "source": [
    "from sklearn.ensemble import RandomForestClassifier\n",
    "from sklearn.preprocessing import label_binarize\n",
    "from sklearn.multiclass import OneVsRestClassifier\n",
    "from sklearn import svm, datasets\n",
    "from sklearn.metrics import confusion_matrix\n",
    "\n",
    "def testModelClass(X_train, y_train, X_test, y_test, model = 'rf', title = \"\"):\n",
    "    m = OneVsRestClassifier(RandomForestClassifier(max_depth= 12, random_state=0, n_estimators=140))\n",
    "    m.fit(X_train, y_train)\n",
    "    preds = m.predict(X_test)\n",
    "    plot_confusion_matrix(y_test, preds, classes = np.unique(y_test), title = title)"
   ]
  },
  {
   "cell_type": "code",
   "execution_count": 227,
   "metadata": {},
   "outputs": [
    {
     "name": "stdout",
     "output_type": "stream",
     "text": [
      "Normalized confusion matrix\n",
      "[[0.99442379 0.         0.         0.         0.00557621]\n",
      " [0.14285714 0.42857143 0.         0.28571429 0.14285714]\n",
      " [0.33333333 0.         0.66666667 0.         0.        ]\n",
      " [0.         0.         0.3        0.7        0.        ]\n",
      " [0.025      0.         0.         0.025      0.95      ]]\n"
     ]
    },
    {
     "data": {
      "text/plain": [
       "<matplotlib.axes._subplots.AxesSubplot at 0x17bc568ea20>"
      ]
     },
     "execution_count": 227,
     "metadata": {},
     "output_type": "execute_result"
    },
    {
     "data": {
      "image/png": "[encoded data removed]",
      "text/plain": [
       "<Figure size 432x288 with 2 Axes>"
      ]
     },
     "metadata": {},
     "output_type": "display_data"
    }
   ],
   "source": [
    "\n",
    "\n",
    "X_train = preprocessing.scale(otu_norm)\n",
    "X_test = preprocessing.scale(otu_norm_test)\n",
    "y_train_bin = label_binarize(y_train, classes = np.unique(y_train))\n",
    "y_test_bin = label_binarize(y_test, classes= np.unique(y_test))\n",
    "\n",
    "\n",
    "m = OneVsRestClassifier(RandomForestClassifier(max_depth= 20, random_state=0, n_estimators=220))\n",
    "m.fit(X_train, y_train)\n",
    "\n",
    "preds = m.predict(X_test)\n",
    "plot_confusion_matrix(y_test, preds, classes = np.unique(y_test))"
   ]
  },
  {
   "cell_type": "code",
   "execution_count": 229,
   "metadata": {},
   "outputs": [
    {
     "name": "stdout",
     "output_type": "stream",
     "text": [
      "Normalized confusion matrix\n",
      "[[0.99442379 0.         0.         0.         0.00557621]\n",
      " [0.14285714 0.42857143 0.         0.28571429 0.14285714]\n",
      " [0.         0.         0.66666667 0.33333333 0.        ]\n",
      " [0.         0.         0.4        0.6        0.        ]\n",
      " [0.025      0.         0.         0.025      0.95      ]]\n"
     ]
    },
    {
     "data": {
      "text/plain": [
       "<matplotlib.axes._subplots.AxesSubplot at 0x17b87f1aac8>"
      ]
     },
     "execution_count": 229,
     "metadata": {},
     "output_type": "execute_result"
    },
    {
     "data": {
      "image/png": "[encoded data removed]",
      "text/plain": [
       "<Figure size 432x288 with 2 Axes>"
      ]
     },
     "metadata": {},
     "output_type": "display_data"
    }
   ],
   "source": [
    "#Embed and weighted average of taxa abundance\n",
    "\n",
    "X_train_embed = preprocessing.scale(embed(otu_norm, qual_vecs))\n",
    "X_test_embed = preprocessing.scale(embed(otu_norm_test, qual_vecs))\n",
    "y_train_bin = label_binarize(y_train, classes = np.unique(y_train))\n",
    "y_test_bin = label_binarize(y_test, classes= np.unique(y_test))\n",
    "\n",
    "\n",
    "m_embed = OneVsRestClassifier(RandomForestClassifier(max_depth= 12, random_state=0, n_estimators=140))\n",
    "m_embed.fit(X_train_embed, y_train)\n",
    "preds = m_embed.predict(X_test_embed)\n",
    "plot_confusion_matrix(y_test, preds, classes = np.unique(y_test))"
   ]
  },
  {
   "cell_type": "code",
   "execution_count": 230,
   "metadata": {},
   "outputs": [],
   "source": [
    "taxa_occurrence = otu_train.astype(bool)\n",
    "taxa_present = taxa_occurrence.sum(axis = 0)\n",
    "\n",
    "def embed_frequency(otu, qual_vecs):\n",
    "    qual_vecs_use = qual_vecs.loc[list(otu.columns.values)]\n",
    "    occurrence = otu.astype(bool)\n",
    "    taxa_present_use = taxa_present[otu.columns.values]\n",
    "    inverse_freq_mat = occurrence.div(taxa_present_use, axis = 1)\n",
    "    df = pd.DataFrame(np.dot(inverse_freq_mat, qual_vecs_use), index = otu.index.values)\n",
    "    return(df)"
   ]
  },
  {
   "cell_type": "code",
   "execution_count": 231,
   "metadata": {},
   "outputs": [
    {
     "name": "stderr",
     "output_type": "stream",
     "text": [
      "c:\\users\\ctata\\miniconda3\\lib\\site-packages\\ipykernel_launcher.py:3: DataConversionWarning: Data with input dtype object were all converted to float64 by the scale function.\n",
      "  This is separate from the ipykernel package so we can avoid doing imports until\n",
      "c:\\users\\ctata\\miniconda3\\lib\\site-packages\\ipykernel_launcher.py:4: DataConversionWarning: Data with input dtype object were all converted to float64 by the scale function.\n",
      "  after removing the cwd from sys.path.\n"
     ]
    },
    {
     "name": "stdout",
     "output_type": "stream",
     "text": [
      "Normalized confusion matrix\n",
      "[[0.99256506 0.00185874 0.         0.         0.00557621]\n",
      " [0.         0.28571429 0.28571429 0.42857143 0.        ]\n",
      " [0.         0.66666667 0.         0.33333333 0.        ]\n",
      " [0.         0.2        0.5        0.2        0.1       ]\n",
      " [0.05       0.         0.025      0.         0.925     ]]\n"
     ]
    },
    {
     "data": {
      "text/plain": [
       "<matplotlib.axes._subplots.AxesSubplot at 0x17b86ceaf28>"
      ]
     },
     "execution_count": 231,
     "metadata": {},
     "output_type": "execute_result"
    },
    {
     "data": {
      "image/png": "[encoded data removed]",
      "text/plain": [
       "<Figure size 432x288 with 2 Axes>"
      ]
     },
     "metadata": {},
     "output_type": "display_data"
    }
   ],
   "source": [
    "#Embed and weighted average by inverse taxa occurrence in samples\n",
    "\n",
    "X_train_embed_freq = preprocessing.scale(embed_frequency(otu_ml, qual_vecs))\n",
    "X_test_embed_freq = preprocessing.scale(embed_frequency(otu_ml_test, qual_vecs))\n",
    "\n",
    "m_embed = OneVsRestClassifier(RandomForestClassifier(max_depth= 12, random_state=0, n_estimators=140))\n",
    "m_embed.fit(X_train_embed_freq, y_train)\n",
    "\n",
    "preds = m_embed.predict(X_test_embed_freq)\n",
    "plot_confusion_matrix(y_test, preds, classes = np.unique(y_test))"
   ]
  },
  {
   "cell_type": "code",
   "execution_count": 232,
   "metadata": {},
   "outputs": [],
   "source": [
    "otu_tmp = log_normalize(otu_train)\n",
    "taxa_abundance = otu_tmp.sum(axis = 0)\n",
    "\n",
    "def embed_count_frequency(otu, qual_vecs):\n",
    "    qual_vecs_use = qual_vecs.loc[list(otu.columns.values)]\n",
    "    occurrence = log_normalize(otu)\n",
    "    taxa_abundance_use = taxa_abundance[otu.columns.values]\n",
    "    inverse_freq_mat = occurrence.div(taxa_abundance_use, axis = 1)\n",
    "    df = pd.DataFrame(np.dot(inverse_freq_mat, qual_vecs_use), index = otu.index.values)\n",
    "    return(df)"
   ]
  },
  {
   "cell_type": "code",
   "execution_count": 255,
   "metadata": {},
   "outputs": [
    {
     "ename": "ValueError",
     "evalue": "Number of labels=5820 does not match number of samples=5295",
     "output_type": "error",
     "traceback": [
      "\u001b[1;31m---------------------------------------------------------------------------\u001b[0m",
      "\u001b[1;31mValueError\u001b[0m                                Traceback (most recent call last)",
      "\u001b[1;32m<ipython-input-255-8685806f1e7a>\u001b[0m in \u001b[0;36m<module>\u001b[1;34m()\u001b[0m\n\u001b[0;32m     11\u001b[0m testModelClass(preprocessing.scale(embed_count_frequency(otu_norm, qual_vecs)), y_train,\n\u001b[0;32m     12\u001b[0m              \u001b[0mpreprocessing\u001b[0m\u001b[1;33m.\u001b[0m\u001b[0mscale\u001b[0m\u001b[1;33m(\u001b[0m\u001b[0membed_count_frequency\u001b[0m\u001b[1;33m(\u001b[0m\u001b[0motu_norm_test\u001b[0m\u001b[1;33m,\u001b[0m \u001b[0mqual_vecs\u001b[0m\u001b[1;33m)\u001b[0m\u001b[1;33m)\u001b[0m\u001b[1;33m,\u001b[0m \u001b[0my_test\u001b[0m\u001b[1;33m,\u001b[0m\u001b[1;33m\u001b[0m\u001b[0m\n\u001b[1;32m---> 13\u001b[1;33m               model = \"rf\", title = \"Inverse abundance Weighting\")\n\u001b[0m",
      "\u001b[1;32m<ipython-input-255-8685806f1e7a>\u001b[0m in \u001b[0;36mtestModelClass\u001b[1;34m(X_train, y_train, X_test, y_test, model, title)\u001b[0m\n\u001b[0;32m      5\u001b[0m \u001b[1;32mdef\u001b[0m \u001b[0mtestModelClass\u001b[0m\u001b[1;33m(\u001b[0m\u001b[0mX_train\u001b[0m\u001b[1;33m,\u001b[0m \u001b[0my_train\u001b[0m\u001b[1;33m,\u001b[0m \u001b[0mX_test\u001b[0m\u001b[1;33m,\u001b[0m \u001b[0my_test\u001b[0m\u001b[1;33m,\u001b[0m \u001b[0mmodel\u001b[0m \u001b[1;33m=\u001b[0m \u001b[1;34m'rf'\u001b[0m\u001b[1;33m,\u001b[0m \u001b[0mtitle\u001b[0m \u001b[1;33m=\u001b[0m \u001b[1;34m\"\"\u001b[0m\u001b[1;33m)\u001b[0m\u001b[1;33m:\u001b[0m\u001b[1;33m\u001b[0m\u001b[0m\n\u001b[0;32m      6\u001b[0m     \u001b[0mm\u001b[0m \u001b[1;33m=\u001b[0m \u001b[0mOneVsRestClassifier\u001b[0m\u001b[1;33m(\u001b[0m\u001b[0mRandomForestClassifier\u001b[0m\u001b[1;33m(\u001b[0m\u001b[0mmax_depth\u001b[0m\u001b[1;33m=\u001b[0m \u001b[1;36m12\u001b[0m\u001b[1;33m,\u001b[0m \u001b[0mrandom_state\u001b[0m\u001b[1;33m=\u001b[0m\u001b[1;36m0\u001b[0m\u001b[1;33m,\u001b[0m \u001b[0mn_estimators\u001b[0m\u001b[1;33m=\u001b[0m\u001b[1;36m140\u001b[0m\u001b[1;33m)\u001b[0m\u001b[1;33m)\u001b[0m\u001b[1;33m\u001b[0m\u001b[0m\n\u001b[1;32m----> 7\u001b[1;33m     \u001b[0mm\u001b[0m\u001b[1;33m.\u001b[0m\u001b[0mfit\u001b[0m\u001b[1;33m(\u001b[0m\u001b[0mX_train\u001b[0m\u001b[1;33m,\u001b[0m \u001b[0my_train\u001b[0m\u001b[1;33m)\u001b[0m\u001b[1;33m\u001b[0m\u001b[0m\n\u001b[0m\u001b[0;32m      8\u001b[0m     \u001b[0mpreds\u001b[0m \u001b[1;33m=\u001b[0m \u001b[0mm\u001b[0m\u001b[1;33m.\u001b[0m\u001b[0mpredict\u001b[0m\u001b[1;33m(\u001b[0m\u001b[0mX_test\u001b[0m\u001b[1;33m)\u001b[0m\u001b[1;33m\u001b[0m\u001b[0m\n\u001b[0;32m      9\u001b[0m     \u001b[0mplot_confusion_matrix\u001b[0m\u001b[1;33m(\u001b[0m\u001b[0my_test\u001b[0m\u001b[1;33m,\u001b[0m \u001b[0mpreds\u001b[0m\u001b[1;33m,\u001b[0m \u001b[0mclasses\u001b[0m \u001b[1;33m=\u001b[0m \u001b[0mnp\u001b[0m\u001b[1;33m.\u001b[0m\u001b[0munique\u001b[0m\u001b[1;33m(\u001b[0m\u001b[0my_test\u001b[0m\u001b[1;33m)\u001b[0m\u001b[1;33m,\u001b[0m \u001b[0mtitle\u001b[0m \u001b[1;33m=\u001b[0m \u001b[0mtitle\u001b[0m\u001b[1;33m)\u001b[0m\u001b[1;33m\u001b[0m\u001b[0m\n",
      "\u001b[1;32mc:\\users\\ctata\\miniconda3\\lib\\site-packages\\sklearn\\multiclass.py\u001b[0m in \u001b[0;36mfit\u001b[1;34m(self, X, y)\u001b[0m\n\u001b[0;32m    213\u001b[0m                 \u001b[1;34m\"not %s\"\u001b[0m \u001b[1;33m%\u001b[0m \u001b[0mself\u001b[0m\u001b[1;33m.\u001b[0m\u001b[0mlabel_binarizer_\u001b[0m\u001b[1;33m.\u001b[0m\u001b[0mclasses_\u001b[0m\u001b[1;33m[\u001b[0m\u001b[0mi\u001b[0m\u001b[1;33m]\u001b[0m\u001b[1;33m,\u001b[0m\u001b[1;33m\u001b[0m\u001b[0m\n\u001b[0;32m    214\u001b[0m                 self.label_binarizer_.classes_[i]])\n\u001b[1;32m--> 215\u001b[1;33m             for i, column in enumerate(columns))\n\u001b[0m\u001b[0;32m    216\u001b[0m \u001b[1;33m\u001b[0m\u001b[0m\n\u001b[0;32m    217\u001b[0m         \u001b[1;32mreturn\u001b[0m \u001b[0mself\u001b[0m\u001b[1;33m\u001b[0m\u001b[0m\n",
      "\u001b[1;32mc:\\users\\ctata\\miniconda3\\lib\\site-packages\\sklearn\\externals\\joblib\\parallel.py\u001b[0m in \u001b[0;36m__call__\u001b[1;34m(self, iterable)\u001b[0m\n\u001b[0;32m    915\u001b[0m             \u001b[1;31m# remaining jobs.\u001b[0m\u001b[1;33m\u001b[0m\u001b[1;33m\u001b[0m\u001b[0m\n\u001b[0;32m    916\u001b[0m             \u001b[0mself\u001b[0m\u001b[1;33m.\u001b[0m\u001b[0m_iterating\u001b[0m \u001b[1;33m=\u001b[0m \u001b[1;32mFalse\u001b[0m\u001b[1;33m\u001b[0m\u001b[0m\n\u001b[1;32m--> 917\u001b[1;33m             \u001b[1;32mif\u001b[0m \u001b[0mself\u001b[0m\u001b[1;33m.\u001b[0m\u001b[0mdispatch_one_batch\u001b[0m\u001b[1;33m(\u001b[0m\u001b[0miterator\u001b[0m\u001b[1;33m)\u001b[0m\u001b[1;33m:\u001b[0m\u001b[1;33m\u001b[0m\u001b[0m\n\u001b[0m\u001b[0;32m    918\u001b[0m                 \u001b[0mself\u001b[0m\u001b[1;33m.\u001b[0m\u001b[0m_iterating\u001b[0m \u001b[1;33m=\u001b[0m \u001b[0mself\u001b[0m\u001b[1;33m.\u001b[0m\u001b[0m_original_iterator\u001b[0m \u001b[1;32mis\u001b[0m \u001b[1;32mnot\u001b[0m \u001b[1;32mNone\u001b[0m\u001b[1;33m\u001b[0m\u001b[0m\n\u001b[0;32m    919\u001b[0m \u001b[1;33m\u001b[0m\u001b[0m\n",
      "\u001b[1;32mc:\\users\\ctata\\miniconda3\\lib\\site-packages\\sklearn\\externals\\joblib\\parallel.py\u001b[0m in \u001b[0;36mdispatch_one_batch\u001b[1;34m(self, iterator)\u001b[0m\n\u001b[0;32m    757\u001b[0m                 \u001b[1;32mreturn\u001b[0m \u001b[1;32mFalse\u001b[0m\u001b[1;33m\u001b[0m\u001b[0m\n\u001b[0;32m    758\u001b[0m             \u001b[1;32melse\u001b[0m\u001b[1;33m:\u001b[0m\u001b[1;33m\u001b[0m\u001b[0m\n\u001b[1;32m--> 759\u001b[1;33m                 \u001b[0mself\u001b[0m\u001b[1;33m.\u001b[0m\u001b[0m_dispatch\u001b[0m\u001b[1;33m(\u001b[0m\u001b[0mtasks\u001b[0m\u001b[1;33m)\u001b[0m\u001b[1;33m\u001b[0m\u001b[0m\n\u001b[0m\u001b[0;32m    760\u001b[0m                 \u001b[1;32mreturn\u001b[0m \u001b[1;32mTrue\u001b[0m\u001b[1;33m\u001b[0m\u001b[0m\n\u001b[0;32m    761\u001b[0m \u001b[1;33m\u001b[0m\u001b[0m\n",
      "\u001b[1;32mc:\\users\\ctata\\miniconda3\\lib\\site-packages\\sklearn\\externals\\joblib\\parallel.py\u001b[0m in \u001b[0;36m_dispatch\u001b[1;34m(self, batch)\u001b[0m\n\u001b[0;32m    714\u001b[0m         \u001b[1;32mwith\u001b[0m \u001b[0mself\u001b[0m\u001b[1;33m.\u001b[0m\u001b[0m_lock\u001b[0m\u001b[1;33m:\u001b[0m\u001b[1;33m\u001b[0m\u001b[0m\n\u001b[0;32m    715\u001b[0m             \u001b[0mjob_idx\u001b[0m \u001b[1;33m=\u001b[0m \u001b[0mlen\u001b[0m\u001b[1;33m(\u001b[0m\u001b[0mself\u001b[0m\u001b[1;33m.\u001b[0m\u001b[0m_jobs\u001b[0m\u001b[1;33m)\u001b[0m\u001b[1;33m\u001b[0m\u001b[0m\n\u001b[1;32m--> 716\u001b[1;33m             \u001b[0mjob\u001b[0m \u001b[1;33m=\u001b[0m \u001b[0mself\u001b[0m\u001b[1;33m.\u001b[0m\u001b[0m_backend\u001b[0m\u001b[1;33m.\u001b[0m\u001b[0mapply_async\u001b[0m\u001b[1;33m(\u001b[0m\u001b[0mbatch\u001b[0m\u001b[1;33m,\u001b[0m \u001b[0mcallback\u001b[0m\u001b[1;33m=\u001b[0m\u001b[0mcb\u001b[0m\u001b[1;33m)\u001b[0m\u001b[1;33m\u001b[0m\u001b[0m\n\u001b[0m\u001b[0;32m    717\u001b[0m             \u001b[1;31m# A job can complete so quickly than its callback is\u001b[0m\u001b[1;33m\u001b[0m\u001b[1;33m\u001b[0m\u001b[0m\n\u001b[0;32m    718\u001b[0m             \u001b[1;31m# called before we get here, causing self._jobs to\u001b[0m\u001b[1;33m\u001b[0m\u001b[1;33m\u001b[0m\u001b[0m\n",
      "\u001b[1;32mc:\\users\\ctata\\miniconda3\\lib\\site-packages\\sklearn\\externals\\joblib\\_parallel_backends.py\u001b[0m in \u001b[0;36mapply_async\u001b[1;34m(self, func, callback)\u001b[0m\n\u001b[0;32m    180\u001b[0m     \u001b[1;32mdef\u001b[0m \u001b[0mapply_async\u001b[0m\u001b[1;33m(\u001b[0m\u001b[0mself\u001b[0m\u001b[1;33m,\u001b[0m \u001b[0mfunc\u001b[0m\u001b[1;33m,\u001b[0m \u001b[0mcallback\u001b[0m\u001b[1;33m=\u001b[0m\u001b[1;32mNone\u001b[0m\u001b[1;33m)\u001b[0m\u001b[1;33m:\u001b[0m\u001b[1;33m\u001b[0m\u001b[0m\n\u001b[0;32m    181\u001b[0m         \u001b[1;34m\"\"\"Schedule a func to be run\"\"\"\u001b[0m\u001b[1;33m\u001b[0m\u001b[0m\n\u001b[1;32m--> 182\u001b[1;33m         \u001b[0mresult\u001b[0m \u001b[1;33m=\u001b[0m \u001b[0mImmediateResult\u001b[0m\u001b[1;33m(\u001b[0m\u001b[0mfunc\u001b[0m\u001b[1;33m)\u001b[0m\u001b[1;33m\u001b[0m\u001b[0m\n\u001b[0m\u001b[0;32m    183\u001b[0m         \u001b[1;32mif\u001b[0m \u001b[0mcallback\u001b[0m\u001b[1;33m:\u001b[0m\u001b[1;33m\u001b[0m\u001b[0m\n\u001b[0;32m    184\u001b[0m             \u001b[0mcallback\u001b[0m\u001b[1;33m(\u001b[0m\u001b[0mresult\u001b[0m\u001b[1;33m)\u001b[0m\u001b[1;33m\u001b[0m\u001b[0m\n",
      "\u001b[1;32mc:\\users\\ctata\\miniconda3\\lib\\site-packages\\sklearn\\externals\\joblib\\_parallel_backends.py\u001b[0m in \u001b[0;36m__init__\u001b[1;34m(self, batch)\u001b[0m\n\u001b[0;32m    547\u001b[0m         \u001b[1;31m# Don't delay the application, to avoid keeping the input\u001b[0m\u001b[1;33m\u001b[0m\u001b[1;33m\u001b[0m\u001b[0m\n\u001b[0;32m    548\u001b[0m         \u001b[1;31m# arguments in memory\u001b[0m\u001b[1;33m\u001b[0m\u001b[1;33m\u001b[0m\u001b[0m\n\u001b[1;32m--> 549\u001b[1;33m         \u001b[0mself\u001b[0m\u001b[1;33m.\u001b[0m\u001b[0mresults\u001b[0m \u001b[1;33m=\u001b[0m \u001b[0mbatch\u001b[0m\u001b[1;33m(\u001b[0m\u001b[1;33m)\u001b[0m\u001b[1;33m\u001b[0m\u001b[0m\n\u001b[0m\u001b[0;32m    550\u001b[0m \u001b[1;33m\u001b[0m\u001b[0m\n\u001b[0;32m    551\u001b[0m     \u001b[1;32mdef\u001b[0m \u001b[0mget\u001b[0m\u001b[1;33m(\u001b[0m\u001b[0mself\u001b[0m\u001b[1;33m)\u001b[0m\u001b[1;33m:\u001b[0m\u001b[1;33m\u001b[0m\u001b[0m\n",
      "\u001b[1;32mc:\\users\\ctata\\miniconda3\\lib\\site-packages\\sklearn\\externals\\joblib\\parallel.py\u001b[0m in \u001b[0;36m__call__\u001b[1;34m(self)\u001b[0m\n\u001b[0;32m    223\u001b[0m         \u001b[1;32mwith\u001b[0m \u001b[0mparallel_backend\u001b[0m\u001b[1;33m(\u001b[0m\u001b[0mself\u001b[0m\u001b[1;33m.\u001b[0m\u001b[0m_backend\u001b[0m\u001b[1;33m,\u001b[0m \u001b[0mn_jobs\u001b[0m\u001b[1;33m=\u001b[0m\u001b[0mself\u001b[0m\u001b[1;33m.\u001b[0m\u001b[0m_n_jobs\u001b[0m\u001b[1;33m)\u001b[0m\u001b[1;33m:\u001b[0m\u001b[1;33m\u001b[0m\u001b[0m\n\u001b[0;32m    224\u001b[0m             return [func(*args, **kwargs)\n\u001b[1;32m--> 225\u001b[1;33m                     for func, args, kwargs in self.items]\n\u001b[0m\u001b[0;32m    226\u001b[0m \u001b[1;33m\u001b[0m\u001b[0m\n\u001b[0;32m    227\u001b[0m     \u001b[1;32mdef\u001b[0m \u001b[0m__len__\u001b[0m\u001b[1;33m(\u001b[0m\u001b[0mself\u001b[0m\u001b[1;33m)\u001b[0m\u001b[1;33m:\u001b[0m\u001b[1;33m\u001b[0m\u001b[0m\n",
      "\u001b[1;32mc:\\users\\ctata\\miniconda3\\lib\\site-packages\\sklearn\\externals\\joblib\\parallel.py\u001b[0m in \u001b[0;36m<listcomp>\u001b[1;34m(.0)\u001b[0m\n\u001b[0;32m    223\u001b[0m         \u001b[1;32mwith\u001b[0m \u001b[0mparallel_backend\u001b[0m\u001b[1;33m(\u001b[0m\u001b[0mself\u001b[0m\u001b[1;33m.\u001b[0m\u001b[0m_backend\u001b[0m\u001b[1;33m,\u001b[0m \u001b[0mn_jobs\u001b[0m\u001b[1;33m=\u001b[0m\u001b[0mself\u001b[0m\u001b[1;33m.\u001b[0m\u001b[0m_n_jobs\u001b[0m\u001b[1;33m)\u001b[0m\u001b[1;33m:\u001b[0m\u001b[1;33m\u001b[0m\u001b[0m\n\u001b[0;32m    224\u001b[0m             return [func(*args, **kwargs)\n\u001b[1;32m--> 225\u001b[1;33m                     for func, args, kwargs in self.items]\n\u001b[0m\u001b[0;32m    226\u001b[0m \u001b[1;33m\u001b[0m\u001b[0m\n\u001b[0;32m    227\u001b[0m     \u001b[1;32mdef\u001b[0m \u001b[0m__len__\u001b[0m\u001b[1;33m(\u001b[0m\u001b[0mself\u001b[0m\u001b[1;33m)\u001b[0m\u001b[1;33m:\u001b[0m\u001b[1;33m\u001b[0m\u001b[0m\n",
      "\u001b[1;32mc:\\users\\ctata\\miniconda3\\lib\\site-packages\\sklearn\\multiclass.py\u001b[0m in \u001b[0;36m_fit_binary\u001b[1;34m(estimator, X, y, classes)\u001b[0m\n\u001b[0;32m     78\u001b[0m     \u001b[1;32melse\u001b[0m\u001b[1;33m:\u001b[0m\u001b[1;33m\u001b[0m\u001b[0m\n\u001b[0;32m     79\u001b[0m         \u001b[0mestimator\u001b[0m \u001b[1;33m=\u001b[0m \u001b[0mclone\u001b[0m\u001b[1;33m(\u001b[0m\u001b[0mestimator\u001b[0m\u001b[1;33m)\u001b[0m\u001b[1;33m\u001b[0m\u001b[0m\n\u001b[1;32m---> 80\u001b[1;33m         \u001b[0mestimator\u001b[0m\u001b[1;33m.\u001b[0m\u001b[0mfit\u001b[0m\u001b[1;33m(\u001b[0m\u001b[0mX\u001b[0m\u001b[1;33m,\u001b[0m \u001b[0my\u001b[0m\u001b[1;33m)\u001b[0m\u001b[1;33m\u001b[0m\u001b[0m\n\u001b[0m\u001b[0;32m     81\u001b[0m     \u001b[1;32mreturn\u001b[0m \u001b[0mestimator\u001b[0m\u001b[1;33m\u001b[0m\u001b[0m\n\u001b[0;32m     82\u001b[0m \u001b[1;33m\u001b[0m\u001b[0m\n",
      "\u001b[1;32mc:\\users\\ctata\\miniconda3\\lib\\site-packages\\sklearn\\ensemble\\forest.py\u001b[0m in \u001b[0;36mfit\u001b[1;34m(self, X, y, sample_weight)\u001b[0m\n\u001b[0;32m    331\u001b[0m                     \u001b[0mt\u001b[0m\u001b[1;33m,\u001b[0m \u001b[0mself\u001b[0m\u001b[1;33m,\u001b[0m \u001b[0mX\u001b[0m\u001b[1;33m,\u001b[0m \u001b[0my\u001b[0m\u001b[1;33m,\u001b[0m \u001b[0msample_weight\u001b[0m\u001b[1;33m,\u001b[0m \u001b[0mi\u001b[0m\u001b[1;33m,\u001b[0m \u001b[0mlen\u001b[0m\u001b[1;33m(\u001b[0m\u001b[0mtrees\u001b[0m\u001b[1;33m)\u001b[0m\u001b[1;33m,\u001b[0m\u001b[1;33m\u001b[0m\u001b[0m\n\u001b[0;32m    332\u001b[0m                     verbose=self.verbose, class_weight=self.class_weight)\n\u001b[1;32m--> 333\u001b[1;33m                 for i, t in enumerate(trees))\n\u001b[0m\u001b[0;32m    334\u001b[0m \u001b[1;33m\u001b[0m\u001b[0m\n\u001b[0;32m    335\u001b[0m             \u001b[1;31m# Collect newly grown trees\u001b[0m\u001b[1;33m\u001b[0m\u001b[1;33m\u001b[0m\u001b[0m\n",
      "\u001b[1;32mc:\\users\\ctata\\miniconda3\\lib\\site-packages\\sklearn\\externals\\joblib\\parallel.py\u001b[0m in \u001b[0;36m__call__\u001b[1;34m(self, iterable)\u001b[0m\n\u001b[0;32m    915\u001b[0m             \u001b[1;31m# remaining jobs.\u001b[0m\u001b[1;33m\u001b[0m\u001b[1;33m\u001b[0m\u001b[0m\n\u001b[0;32m    916\u001b[0m             \u001b[0mself\u001b[0m\u001b[1;33m.\u001b[0m\u001b[0m_iterating\u001b[0m \u001b[1;33m=\u001b[0m \u001b[1;32mFalse\u001b[0m\u001b[1;33m\u001b[0m\u001b[0m\n\u001b[1;32m--> 917\u001b[1;33m             \u001b[1;32mif\u001b[0m \u001b[0mself\u001b[0m\u001b[1;33m.\u001b[0m\u001b[0mdispatch_one_batch\u001b[0m\u001b[1;33m(\u001b[0m\u001b[0miterator\u001b[0m\u001b[1;33m)\u001b[0m\u001b[1;33m:\u001b[0m\u001b[1;33m\u001b[0m\u001b[0m\n\u001b[0m\u001b[0;32m    918\u001b[0m                 \u001b[0mself\u001b[0m\u001b[1;33m.\u001b[0m\u001b[0m_iterating\u001b[0m \u001b[1;33m=\u001b[0m \u001b[0mself\u001b[0m\u001b[1;33m.\u001b[0m\u001b[0m_original_iterator\u001b[0m \u001b[1;32mis\u001b[0m \u001b[1;32mnot\u001b[0m \u001b[1;32mNone\u001b[0m\u001b[1;33m\u001b[0m\u001b[0m\n\u001b[0;32m    919\u001b[0m \u001b[1;33m\u001b[0m\u001b[0m\n",
      "\u001b[1;32mc:\\users\\ctata\\miniconda3\\lib\\site-packages\\sklearn\\externals\\joblib\\parallel.py\u001b[0m in \u001b[0;36mdispatch_one_batch\u001b[1;34m(self, iterator)\u001b[0m\n\u001b[0;32m    757\u001b[0m                 \u001b[1;32mreturn\u001b[0m \u001b[1;32mFalse\u001b[0m\u001b[1;33m\u001b[0m\u001b[0m\n\u001b[0;32m    758\u001b[0m             \u001b[1;32melse\u001b[0m\u001b[1;33m:\u001b[0m\u001b[1;33m\u001b[0m\u001b[0m\n\u001b[1;32m--> 759\u001b[1;33m                 \u001b[0mself\u001b[0m\u001b[1;33m.\u001b[0m\u001b[0m_dispatch\u001b[0m\u001b[1;33m(\u001b[0m\u001b[0mtasks\u001b[0m\u001b[1;33m)\u001b[0m\u001b[1;33m\u001b[0m\u001b[0m\n\u001b[0m\u001b[0;32m    760\u001b[0m                 \u001b[1;32mreturn\u001b[0m \u001b[1;32mTrue\u001b[0m\u001b[1;33m\u001b[0m\u001b[0m\n\u001b[0;32m    761\u001b[0m \u001b[1;33m\u001b[0m\u001b[0m\n",
      "\u001b[1;32mc:\\users\\ctata\\miniconda3\\lib\\site-packages\\sklearn\\externals\\joblib\\parallel.py\u001b[0m in \u001b[0;36m_dispatch\u001b[1;34m(self, batch)\u001b[0m\n\u001b[0;32m    714\u001b[0m         \u001b[1;32mwith\u001b[0m \u001b[0mself\u001b[0m\u001b[1;33m.\u001b[0m\u001b[0m_lock\u001b[0m\u001b[1;33m:\u001b[0m\u001b[1;33m\u001b[0m\u001b[0m\n\u001b[0;32m    715\u001b[0m             \u001b[0mjob_idx\u001b[0m \u001b[1;33m=\u001b[0m \u001b[0mlen\u001b[0m\u001b[1;33m(\u001b[0m\u001b[0mself\u001b[0m\u001b[1;33m.\u001b[0m\u001b[0m_jobs\u001b[0m\u001b[1;33m)\u001b[0m\u001b[1;33m\u001b[0m\u001b[0m\n\u001b[1;32m--> 716\u001b[1;33m             \u001b[0mjob\u001b[0m \u001b[1;33m=\u001b[0m \u001b[0mself\u001b[0m\u001b[1;33m.\u001b[0m\u001b[0m_backend\u001b[0m\u001b[1;33m.\u001b[0m\u001b[0mapply_async\u001b[0m\u001b[1;33m(\u001b[0m\u001b[0mbatch\u001b[0m\u001b[1;33m,\u001b[0m \u001b[0mcallback\u001b[0m\u001b[1;33m=\u001b[0m\u001b[0mcb\u001b[0m\u001b[1;33m)\u001b[0m\u001b[1;33m\u001b[0m\u001b[0m\n\u001b[0m\u001b[0;32m    717\u001b[0m             \u001b[1;31m# A job can complete so quickly than its callback is\u001b[0m\u001b[1;33m\u001b[0m\u001b[1;33m\u001b[0m\u001b[0m\n\u001b[0;32m    718\u001b[0m             \u001b[1;31m# called before we get here, causing self._jobs to\u001b[0m\u001b[1;33m\u001b[0m\u001b[1;33m\u001b[0m\u001b[0m\n",
      "\u001b[1;32mc:\\users\\ctata\\miniconda3\\lib\\site-packages\\sklearn\\externals\\joblib\\_parallel_backends.py\u001b[0m in \u001b[0;36mapply_async\u001b[1;34m(self, func, callback)\u001b[0m\n\u001b[0;32m    180\u001b[0m     \u001b[1;32mdef\u001b[0m \u001b[0mapply_async\u001b[0m\u001b[1;33m(\u001b[0m\u001b[0mself\u001b[0m\u001b[1;33m,\u001b[0m \u001b[0mfunc\u001b[0m\u001b[1;33m,\u001b[0m \u001b[0mcallback\u001b[0m\u001b[1;33m=\u001b[0m\u001b[1;32mNone\u001b[0m\u001b[1;33m)\u001b[0m\u001b[1;33m:\u001b[0m\u001b[1;33m\u001b[0m\u001b[0m\n\u001b[0;32m    181\u001b[0m         \u001b[1;34m\"\"\"Schedule a func to be run\"\"\"\u001b[0m\u001b[1;33m\u001b[0m\u001b[0m\n\u001b[1;32m--> 182\u001b[1;33m         \u001b[0mresult\u001b[0m \u001b[1;33m=\u001b[0m \u001b[0mImmediateResult\u001b[0m\u001b[1;33m(\u001b[0m\u001b[0mfunc\u001b[0m\u001b[1;33m)\u001b[0m\u001b[1;33m\u001b[0m\u001b[0m\n\u001b[0m\u001b[0;32m    183\u001b[0m         \u001b[1;32mif\u001b[0m \u001b[0mcallback\u001b[0m\u001b[1;33m:\u001b[0m\u001b[1;33m\u001b[0m\u001b[0m\n\u001b[0;32m    184\u001b[0m             \u001b[0mcallback\u001b[0m\u001b[1;33m(\u001b[0m\u001b[0mresult\u001b[0m\u001b[1;33m)\u001b[0m\u001b[1;33m\u001b[0m\u001b[0m\n",
      "\u001b[1;32mc:\\users\\ctata\\miniconda3\\lib\\site-packages\\sklearn\\externals\\joblib\\_parallel_backends.py\u001b[0m in \u001b[0;36m__init__\u001b[1;34m(self, batch)\u001b[0m\n\u001b[0;32m    547\u001b[0m         \u001b[1;31m# Don't delay the application, to avoid keeping the input\u001b[0m\u001b[1;33m\u001b[0m\u001b[1;33m\u001b[0m\u001b[0m\n\u001b[0;32m    548\u001b[0m         \u001b[1;31m# arguments in memory\u001b[0m\u001b[1;33m\u001b[0m\u001b[1;33m\u001b[0m\u001b[0m\n\u001b[1;32m--> 549\u001b[1;33m         \u001b[0mself\u001b[0m\u001b[1;33m.\u001b[0m\u001b[0mresults\u001b[0m \u001b[1;33m=\u001b[0m \u001b[0mbatch\u001b[0m\u001b[1;33m(\u001b[0m\u001b[1;33m)\u001b[0m\u001b[1;33m\u001b[0m\u001b[0m\n\u001b[0m\u001b[0;32m    550\u001b[0m \u001b[1;33m\u001b[0m\u001b[0m\n\u001b[0;32m    551\u001b[0m     \u001b[1;32mdef\u001b[0m \u001b[0mget\u001b[0m\u001b[1;33m(\u001b[0m\u001b[0mself\u001b[0m\u001b[1;33m)\u001b[0m\u001b[1;33m:\u001b[0m\u001b[1;33m\u001b[0m\u001b[0m\n",
      "\u001b[1;32mc:\\users\\ctata\\miniconda3\\lib\\site-packages\\sklearn\\externals\\joblib\\parallel.py\u001b[0m in \u001b[0;36m__call__\u001b[1;34m(self)\u001b[0m\n\u001b[0;32m    223\u001b[0m         \u001b[1;32mwith\u001b[0m \u001b[0mparallel_backend\u001b[0m\u001b[1;33m(\u001b[0m\u001b[0mself\u001b[0m\u001b[1;33m.\u001b[0m\u001b[0m_backend\u001b[0m\u001b[1;33m,\u001b[0m \u001b[0mn_jobs\u001b[0m\u001b[1;33m=\u001b[0m\u001b[0mself\u001b[0m\u001b[1;33m.\u001b[0m\u001b[0m_n_jobs\u001b[0m\u001b[1;33m)\u001b[0m\u001b[1;33m:\u001b[0m\u001b[1;33m\u001b[0m\u001b[0m\n\u001b[0;32m    224\u001b[0m             return [func(*args, **kwargs)\n\u001b[1;32m--> 225\u001b[1;33m                     for func, args, kwargs in self.items]\n\u001b[0m\u001b[0;32m    226\u001b[0m \u001b[1;33m\u001b[0m\u001b[0m\n\u001b[0;32m    227\u001b[0m     \u001b[1;32mdef\u001b[0m \u001b[0m__len__\u001b[0m\u001b[1;33m(\u001b[0m\u001b[0mself\u001b[0m\u001b[1;33m)\u001b[0m\u001b[1;33m:\u001b[0m\u001b[1;33m\u001b[0m\u001b[0m\n",
      "\u001b[1;32mc:\\users\\ctata\\miniconda3\\lib\\site-packages\\sklearn\\externals\\joblib\\parallel.py\u001b[0m in \u001b[0;36m<listcomp>\u001b[1;34m(.0)\u001b[0m\n\u001b[0;32m    223\u001b[0m         \u001b[1;32mwith\u001b[0m \u001b[0mparallel_backend\u001b[0m\u001b[1;33m(\u001b[0m\u001b[0mself\u001b[0m\u001b[1;33m.\u001b[0m\u001b[0m_backend\u001b[0m\u001b[1;33m,\u001b[0m \u001b[0mn_jobs\u001b[0m\u001b[1;33m=\u001b[0m\u001b[0mself\u001b[0m\u001b[1;33m.\u001b[0m\u001b[0m_n_jobs\u001b[0m\u001b[1;33m)\u001b[0m\u001b[1;33m:\u001b[0m\u001b[1;33m\u001b[0m\u001b[0m\n\u001b[0;32m    224\u001b[0m             return [func(*args, **kwargs)\n\u001b[1;32m--> 225\u001b[1;33m                     for func, args, kwargs in self.items]\n\u001b[0m\u001b[0;32m    226\u001b[0m \u001b[1;33m\u001b[0m\u001b[0m\n\u001b[0;32m    227\u001b[0m     \u001b[1;32mdef\u001b[0m \u001b[0m__len__\u001b[0m\u001b[1;33m(\u001b[0m\u001b[0mself\u001b[0m\u001b[1;33m)\u001b[0m\u001b[1;33m:\u001b[0m\u001b[1;33m\u001b[0m\u001b[0m\n",
      "\u001b[1;32mc:\\users\\ctata\\miniconda3\\lib\\site-packages\\sklearn\\ensemble\\forest.py\u001b[0m in \u001b[0;36m_parallel_build_trees\u001b[1;34m(tree, forest, X, y, sample_weight, tree_idx, n_trees, verbose, class_weight)\u001b[0m\n\u001b[0;32m    117\u001b[0m             \u001b[0mcurr_sample_weight\u001b[0m \u001b[1;33m*=\u001b[0m \u001b[0mcompute_sample_weight\u001b[0m\u001b[1;33m(\u001b[0m\u001b[1;34m'balanced'\u001b[0m\u001b[1;33m,\u001b[0m \u001b[0my\u001b[0m\u001b[1;33m,\u001b[0m \u001b[0mindices\u001b[0m\u001b[1;33m)\u001b[0m\u001b[1;33m\u001b[0m\u001b[0m\n\u001b[0;32m    118\u001b[0m \u001b[1;33m\u001b[0m\u001b[0m\n\u001b[1;32m--> 119\u001b[1;33m         \u001b[0mtree\u001b[0m\u001b[1;33m.\u001b[0m\u001b[0mfit\u001b[0m\u001b[1;33m(\u001b[0m\u001b[0mX\u001b[0m\u001b[1;33m,\u001b[0m \u001b[0my\u001b[0m\u001b[1;33m,\u001b[0m \u001b[0msample_weight\u001b[0m\u001b[1;33m=\u001b[0m\u001b[0mcurr_sample_weight\u001b[0m\u001b[1;33m,\u001b[0m \u001b[0mcheck_input\u001b[0m\u001b[1;33m=\u001b[0m\u001b[1;32mFalse\u001b[0m\u001b[1;33m)\u001b[0m\u001b[1;33m\u001b[0m\u001b[0m\n\u001b[0m\u001b[0;32m    120\u001b[0m     \u001b[1;32melse\u001b[0m\u001b[1;33m:\u001b[0m\u001b[1;33m\u001b[0m\u001b[0m\n\u001b[0;32m    121\u001b[0m         \u001b[0mtree\u001b[0m\u001b[1;33m.\u001b[0m\u001b[0mfit\u001b[0m\u001b[1;33m(\u001b[0m\u001b[0mX\u001b[0m\u001b[1;33m,\u001b[0m \u001b[0my\u001b[0m\u001b[1;33m,\u001b[0m \u001b[0msample_weight\u001b[0m\u001b[1;33m=\u001b[0m\u001b[0msample_weight\u001b[0m\u001b[1;33m,\u001b[0m \u001b[0mcheck_input\u001b[0m\u001b[1;33m=\u001b[0m\u001b[1;32mFalse\u001b[0m\u001b[1;33m)\u001b[0m\u001b[1;33m\u001b[0m\u001b[0m\n",
      "\u001b[1;32mc:\\users\\ctata\\miniconda3\\lib\\site-packages\\sklearn\\tree\\tree.py\u001b[0m in \u001b[0;36mfit\u001b[1;34m(self, X, y, sample_weight, check_input, X_idx_sorted)\u001b[0m\n\u001b[0;32m    799\u001b[0m             \u001b[0msample_weight\u001b[0m\u001b[1;33m=\u001b[0m\u001b[0msample_weight\u001b[0m\u001b[1;33m,\u001b[0m\u001b[1;33m\u001b[0m\u001b[0m\n\u001b[0;32m    800\u001b[0m             \u001b[0mcheck_input\u001b[0m\u001b[1;33m=\u001b[0m\u001b[0mcheck_input\u001b[0m\u001b[1;33m,\u001b[0m\u001b[1;33m\u001b[0m\u001b[0m\n\u001b[1;32m--> 801\u001b[1;33m             X_idx_sorted=X_idx_sorted)\n\u001b[0m\u001b[0;32m    802\u001b[0m         \u001b[1;32mreturn\u001b[0m \u001b[0mself\u001b[0m\u001b[1;33m\u001b[0m\u001b[0m\n\u001b[0;32m    803\u001b[0m \u001b[1;33m\u001b[0m\u001b[0m\n",
      "\u001b[1;32mc:\\users\\ctata\\miniconda3\\lib\\site-packages\\sklearn\\tree\\tree.py\u001b[0m in \u001b[0;36mfit\u001b[1;34m(self, X, y, sample_weight, check_input, X_idx_sorted)\u001b[0m\n\u001b[0;32m    234\u001b[0m         \u001b[1;32mif\u001b[0m \u001b[0mlen\u001b[0m\u001b[1;33m(\u001b[0m\u001b[0my\u001b[0m\u001b[1;33m)\u001b[0m \u001b[1;33m!=\u001b[0m \u001b[0mn_samples\u001b[0m\u001b[1;33m:\u001b[0m\u001b[1;33m\u001b[0m\u001b[0m\n\u001b[0;32m    235\u001b[0m             raise ValueError(\"Number of labels=%d does not match \"\n\u001b[1;32m--> 236\u001b[1;33m                              \"number of samples=%d\" % (len(y), n_samples))\n\u001b[0m\u001b[0;32m    237\u001b[0m         \u001b[1;32mif\u001b[0m \u001b[1;32mnot\u001b[0m \u001b[1;36m0\u001b[0m \u001b[1;33m<=\u001b[0m \u001b[0mself\u001b[0m\u001b[1;33m.\u001b[0m\u001b[0mmin_weight_fraction_leaf\u001b[0m \u001b[1;33m<=\u001b[0m \u001b[1;36m0.5\u001b[0m\u001b[1;33m:\u001b[0m\u001b[1;33m\u001b[0m\u001b[0m\n\u001b[0;32m    238\u001b[0m             \u001b[1;32mraise\u001b[0m \u001b[0mValueError\u001b[0m\u001b[1;33m(\u001b[0m\u001b[1;34m\"min_weight_fraction_leaf must in [0, 0.5]\"\u001b[0m\u001b[1;33m)\u001b[0m\u001b[1;33m\u001b[0m\u001b[0m\n",
      "\u001b[1;31mValueError\u001b[0m: Number of labels=5820 does not match number of samples=5295"
     ]
    }
   ],
   "source": [
    "X_train_embed_count_freq = preprocessing.scale(embed_count_frequency(otu_norm, qual_vecs))\n",
    "X_test_embed_count_freq = preprocessing.scale(embed_count_frequency(otu_norm_test, qual_vecs))\n",
    "\n",
    "    \n",
    "\n",
    "    \n",
    "testModelClass(preprocessing.scale(embed_count_frequency(otu_norm, qual_vecs)), y_train,\n",
    "             preprocessing.scale(embed_count_frequency(otu_norm_test, qual_vecs)), y_test,\n",
    "              model = \"rf\", title = \"Inverse abundance Weighting\")"
   ]
  },
  {
   "cell_type": "markdown",
   "metadata": {},
   "source": [
    "# This concludes the body site prediction portion. Below, we will try to predict BMI using all gut microbiome information"
   ]
  },
  {
   "cell_type": "code",
   "execution_count": 63,
   "metadata": {},
   "outputs": [
    {
     "name": "stdout",
     "output_type": "stream",
     "text": [
      "Original data dimensions\n",
      "Taxa: 9162  Samples: 15475\n"
     ]
    },
    {
     "name": "stderr",
     "output_type": "stream",
     "text": [
      "C:\\Users\\ctata\\Miniconda3\\envs\\tensorflow\\lib\\site-packages\\IPython\\core\\interactiveshell.py:2903: DtypeWarning: Columns (0) have mixed types. Specify dtype option on import or set low_memory=False.\n",
      "  if self.run_code(code, result):\n",
      "C:\\Users\\ctata\\Documents\\Lab\\quality_vectors\\helper_functions.py:36: FutureWarning: elementwise comparison failed; returning scalar instead, but in the future will perform elementwise comparison\n",
      "  qual_vecs_clean = qual_vecs.loc[[i in otu_clean.index.values for i in qual_vecs.index.values]] #keep taxa if present in otu\n"
     ]
    },
    {
     "name": "stdout",
     "output_type": "stream",
     "text": [
      "Filter for taxa present in embeddings\n",
      "Taxa: 6144  Samples: 15475\n"
     ]
    },
    {
     "name": "stderr",
     "output_type": "stream",
     "text": [
      "C:\\Users\\ctata\\Miniconda3\\envs\\tensorflow\\lib\\site-packages\\IPython\\core\\interactiveshell.py:2903: DtypeWarning: Columns (0,81) have mixed types. Specify dtype option on import or set low_memory=False.\n",
      "  if self.run_code(code, result):\n",
      "C:\\Users\\ctata\\Documents\\Lab\\quality_vectors\\helper_functions.py:43: FutureWarning: \n",
      "Passing list-likes to .loc or [] with any missing label will raise\n",
      "KeyError in the future, you can use .reindex() as an alternative.\n",
      "\n",
      "See the documentation here:\n",
      "https://pandas.pydata.org/pandas-docs/stable/indexing.html#deprecate-loc-reindex-listlike\n",
      "  map_clean = mapping.loc[otu_clean.columns.values] #Keep samples if present in otu\n"
     ]
    },
    {
     "name": "stdout",
     "output_type": "stream",
     "text": [
      "Samples originally: 15475\n",
      "Samples after categorical filter: 11645\n",
      "Samples after numerical filter: 6447\n",
      "Filter for desired metadata present\n",
      "Samples: 6447  Taxa: 6144\n",
      "(5550, 6144)\n",
      "(5550, 17)\n",
      "(897, 6144)\n",
      "(897, 17)\n"
     ]
    }
   ],
   "source": [
    "importlib.reload(hf)\n",
    "\n",
    "number_criteria = [\"BMI\", \"AGE_CORRECTED\"]\n",
    "cat_criteria = [\"EXERCISE_FREQUENCY\", \"SEX\", \"DOG\", \"ONE_LITER_OF_WATER_A_DAY_FREQUENCY\", \n",
    "        \"SEAFOOD_FREQUENCY\", \"PROBIOTIC_FREQUENCY\", \"OLIVE_OIL\", \"FRUIT_FREQUENCY\", \n",
    "         \"SLEEP_DURATION\", \"SUGAR_SWEETENED_DRINK_FREQUENCY\", \"MILK_CHEESE_FREQUENCY\",\n",
    "         \"RED_MEAT_FREQUENCY\",\"MEAT_EGGS_FREQUENCY\", \"VEGETABLE_FREQUENCY\", \"BODY_SITE\"]\n",
    "otu_file = \"data/AG_new/feces/otu_filtered_AG_07perc_feces.csv\"\n",
    "mapping_file = \"data/AG_new/AG_mapping.txt\"\n",
    "qual_vec_file = \"data/AG_new/feces/glove_emb_AG_new07perc_feces_500.txt\"\n",
    "test_samples_file = \"data/AG_new/feces/AG_test_samples_feces.obj\"\n",
    "otu_train, otu_test, qual_vecs, map_train, map_test = hf.getDataAG(otu_file, mapping_file, qual_vec_file, test_samples_file,\n",
    "                                                                   number_criteria, cat_criteria)"
   ]
  },
  {
   "cell_type": "code",
   "execution_count": 64,
   "metadata": {},
   "outputs": [
    {
     "name": "stdout",
     "output_type": "stream",
     "text": [
      "(5525, 6079)\n",
      "(5525, 17)\n",
      "(893, 6079)\n",
      "(893, 17)\n"
     ]
    }
   ],
   "source": [
    "#Sample should have BMI under 100\n",
    "otu_train_filt = otu_train.loc[[float(i) < 100 for i in map_train[\"BMI\"]], :]\n",
    "otu_test_filt = otu_test.loc[[float(i) < 100 for i in map_test[\"BMI\"]], :]\n",
    "\n",
    "#Discard samples that have no taxa\n",
    "otu_train_filt = otu_train_filt.loc[otu_train_filt.sum(axis = 1) > 0, :]\n",
    "otu_test_filt = otu_test_filt.loc[otu_test_filt.sum(axis = 1) > 0, :]\n",
    "\n",
    "#Discard taxa that have no samples\n",
    "taxa_keep_train = np.array(otu_train_filt.sum(axis = 0) > 0)\n",
    "taxa_keep_test = np.array(otu_test_filt.sum(axis = 0) > 0)\n",
    "taxa_keep = [taxa_keep_train[i] & taxa_keep_test[i] for i in range(otu_train_filt.shape[1])]\n",
    "otu_train_filt = otu_train_filt.loc[:, taxa_keep]\n",
    "otu_test_filt = otu_test_filt.loc[:, taxa_keep]\n",
    "\n",
    "map_train = map_train.loc[otu_train_filt.index.values]\n",
    "map_test = map_test.loc[otu_test_filt.index.values]\n",
    "\n",
    "map_train = map_train[number_criteria + cat_criteria]\n",
    "map_test = map_test[number_criteria + cat_criteria]\n",
    "\n",
    "print(otu_train_filt.shape)\n",
    "print(map_train.shape)\n",
    "print(otu_test_filt.shape)\n",
    "print(map_test.shape)\n",
    "\n",
    "otu_train = copy.deepcopy(otu_train_filt)\n",
    "otu_test = copy.deepcopy(otu_test_filt)\n"
   ]
  },
  {
   "cell_type": "code",
   "execution_count": null,
   "metadata": {},
   "outputs": [],
   "source": []
  },
  {
   "cell_type": "code",
   "execution_count": 3,
   "metadata": {},
   "outputs": [],
   "source": [
    "#Load saved objects instead of reading from file\n",
    "f = open(\"data/AG_new/otu_train_feces.obj\", \"rb\")\n",
    "otu_train = pickle.load(f)\n",
    "f.close()\n",
    "\n",
    "f = open(\"data/AG_new/otu_test_feces.obj\", \"rb\")\n",
    "otu_test = pickle.load(f)\n",
    "f.close()\n",
    "\n",
    "f = open(\"data/AG_new/qual_vecs_feces.obj\", \"rb\")\n",
    "qual_vecs = pickle.load(f)\n",
    "f.close()\n",
    "\n",
    "f = open(\"data/AG_new/map_train_feces.obj\", \"rb\")\n",
    "map_train = pickle.load(f)\n",
    "f.close()\n",
    "\n",
    "f = open(\"data/AG_new/map_test_feces.obj\", \"rb\")\n",
    "map_test = pickle.load(f)\n",
    "f.close()"
   ]
  },
  {
   "cell_type": "code",
   "execution_count": 42,
   "metadata": {},
   "outputs": [
    {
     "name": "stdout",
     "output_type": "stream",
     "text": [
      "(5525, 6079)\n",
      "(5525, 17)\n",
      "(893, 6079)\n",
      "(893, 17)\n"
     ]
    },
    {
     "data": {
      "text/plain": [
       "76.89"
      ]
     },
     "execution_count": 42,
     "metadata": {},
     "output_type": "execute_result"
    }
   ],
   "source": [
    "print(otu_train.shape)\n",
    "print(map_train.shape)\n",
    "print(otu_test.shape)\n",
    "print(map_test.shape)\n",
    "max([float(i) for i in map_train[\"BMI\"]])"
   ]
  },
  {
   "cell_type": "code",
   "execution_count": 43,
   "metadata": {},
   "outputs": [],
   "source": [
    "def plotLineOfBestFit(xi, y, title = \"\"):\n",
    "    #plt.figure(figsize=(15,5))\n",
    "    print(np.max(y))\n",
    "\n",
    "    #y = y.values\n",
    "    slope, intercept, r_value, p_value, std_err = stats.linregress(xi,y)\n",
    "    line = slope*xi+intercept\n",
    "    plt.plot(xi,y,'o', xi, line)\n",
    "    \n",
    "    #perfect line\n",
    "    #plt.plot(\n",
    "    \n",
    "    plt.xlabel(\"Predicted Value\")\n",
    "    plt.ylabel(\"True Value\")\n",
    "    plt.title(title)\n",
    "    plt.ylim((np.min(xi),np.max(xi)))\n",
    "    print(\"Slope: \" + str(slope))\n",
    "    print(\"R value: \" + str(r_value))\n",
    "\n"
   ]
  },
  {
   "cell_type": "code",
   "execution_count": 44,
   "metadata": {},
   "outputs": [],
   "source": [
    "#Save objects to avoid having to reload\n",
    "\n",
    "f = open(\"data/AG_new/otu_train_feces.obj\", \"wb\")\n",
    "pickle.dump(otu_train, f)\n",
    "f.close()\n",
    "\n",
    "f = open(\"data/AG_new/otu_test_feces.obj\", \"wb\")\n",
    "pickle.dump(otu_test, f)\n",
    "f.close()\n",
    "\n",
    "f = open(\"data/AG_new/qual_vecs_feces.obj\", \"wb\" )\n",
    "pickle.dump(qual_vecs, f)\n",
    "f.close()\n",
    "\n",
    "f = open(\"data/AG_new/map_train_feces.obj\", \"wb\")\n",
    "pickle.dump(map_train, f)\n",
    "f.close()\n",
    "\n",
    "f = open(\"data/AG_new/map_test_feces.obj\", \"wb\")\n",
    "pickle.dump(map_test, f)\n",
    "f.close()"
   ]
  },
  {
   "cell_type": "code",
   "execution_count": 45,
   "metadata": {},
   "outputs": [],
   "source": [
    "def log_normalize(otu):\n",
    "    return(np.log(otu + 1))\n",
    "otu_norm = log_normalize(otu_train)\n",
    "otu_norm_test = log_normalize(otu_test)"
   ]
  },
  {
   "cell_type": "code",
   "execution_count": 46,
   "metadata": {},
   "outputs": [
    {
     "data": {
      "text/plain": [
       "0"
      ]
     },
     "execution_count": 46,
     "metadata": {},
     "output_type": "execute_result"
    }
   ],
   "source": [
    "np.sum(np.sum(otu_train.isnull()))\n",
    "np.sum(np.sum(otu_norm_test.isnull()))"
   ]
  },
  {
   "cell_type": "code",
   "execution_count": 47,
   "metadata": {},
   "outputs": [],
   "source": [
    "f = open(\"feature_selection/AG_new/ml_features_500_bmi.obj\", \"rb\")\n",
    "ml_features = pickle.load(f)\n",
    "f.close()\n",
    "\n",
    "otu_ml = otu_train[list(ml_features)]\n",
    "otu_ml_test = otu_test[list(ml_features)]"
   ]
  },
  {
   "cell_type": "code",
   "execution_count": 48,
   "metadata": {},
   "outputs": [
    {
     "name": "stdout",
     "output_type": "stream",
     "text": [
      "(5525, 213)\n",
      "(893, 213)\n"
     ]
    }
   ],
   "source": [
    "print(otu_ml.shape)\n",
    "print(otu_ml_test.shape)\n"
   ]
  },
  {
   "cell_type": "code",
   "execution_count": 49,
   "metadata": {},
   "outputs": [
    {
     "name": "stdout",
     "output_type": "stream",
     "text": [
      "EXERCISE_FREQUENCY\n",
      "ONE_LITER_OF_WATER_A_DAY_FREQUENCY\n",
      "SEAFOOD_FREQUENCY\n",
      "PROBIOTIC_FREQUENCY\n",
      "OLIVE_OIL\n",
      "FRUIT_FREQUENCY\n",
      "SUGAR_SWEETENED_DRINK_FREQUENCY\n",
      "MILK_CHEESE_FREQUENCY\n",
      "RED_MEAT_FREQUENCY\n",
      "MEAT_EGGS_FREQUENCY\n",
      "VEGETABLE_FREQUENCY\n"
     ]
    }
   ],
   "source": [
    "#Convert categorical to numerical\n",
    "map_train_correct = copy.deepcopy(map_train)\n",
    "map_test_correct = copy.deepcopy(map_test)\n",
    "\n",
    "\n",
    "\n",
    "def makeNumeric(var, dictionary, map_train, map_test, map_train_correct, map_test_correct):\n",
    "    map_train_correct[var] = [dictionary[i] for i in map_train[var]]\n",
    "    map_test_correct[var] = [dictionary[i] for i in map_test[var]]\n",
    "    return(map_train_correct, map_test_correct)\n",
    "\n",
    "map_train_correct[\"AGE_CORRECTED\"] = [float(i) for i in map_train[\"AGE_CORRECTED\"]]\n",
    "map_test_correct[\"AGE_CORRECTED\"] = [float(i) for i in map_test[\"AGE_CORRECTED\"]]\n",
    "\n",
    "\n",
    "freq_dict = {\"Never\": 0, \"Rarely (a few times/month)\":1, \"Occasionally (1-2 times/week)\": 2,\n",
    "             \"Regularly (3-5 times/week)\":3, \"Daily\":4, \"Rarely (less than once/week)\" : 1}\n",
    "\n",
    "freq_vars = [\"EXERCISE_FREQUENCY\", \"ONE_LITER_OF_WATER_A_DAY_FREQUENCY\", \"SEAFOOD_FREQUENCY\", \"PROBIOTIC_FREQUENCY\", \n",
    "             \"OLIVE_OIL\", \"FRUIT_FREQUENCY\", \"SUGAR_SWEETENED_DRINK_FREQUENCY\", \"MILK_CHEESE_FREQUENCY\", \"RED_MEAT_FREQUENCY\",\n",
    "            \"MEAT_EGGS_FREQUENCY\", \"VEGETABLE_FREQUENCY\"]\n",
    "for var in freq_vars:\n",
    "    print(var)\n",
    "    map_train_correct, map_test_correct = makeNumeric(var, freq_dict, map_train, map_test, map_train_correct, map_test_correct)\n",
    "\n",
    "sex_dict = {\"male\": 0, \"female\":1}\n",
    "map_train_correct, map_test_correct = makeNumeric(\"SEX\", sex_dict, map_train, map_test, map_train_correct, map_test_correct)\n",
    "\n",
    "sleep_dict = {\"Less than 5 hours\":1, \"5-6 hours\":2, \"6-7 hours\":3, \"7-8 hours\":4, \"8 or more hours\":5 }\n",
    "map_train_correct, map_test_correct = makeNumeric(\"SLEEP_DURATION\", sleep_dict, map_train, map_test, map_train_correct, map_test_correct)\n",
    "\n",
    "dog_dict = {\"false\": 0, \"true\": 1, \"No\":0, \"Yes\":1}\n",
    "map_train_correct, map_test_correct = makeNumeric(\"DOG\", dog_dict,  map_train, map_test, map_train_correct, map_test_correct)\n",
    "\n",
    "\n"
   ]
  },
  {
   "cell_type": "code",
   "execution_count": 50,
   "metadata": {},
   "outputs": [],
   "source": [
    "#Both of these functions need to take in non-normalized data\n",
    "\n",
    "taxa_occurrence = otu_train.astype(bool)\n",
    "taxa_present = taxa_occurrence.sum(axis = 0) #total number of occurrences (0,1) of each taxa\n",
    "\n",
    "def embed_frequency(otu, qual_vecs):\n",
    "    qual_vecs_use = qual_vecs.loc[list(otu.columns.values)]\n",
    "    occurrence = otu.astype(bool)\n",
    "    taxa_present_use = taxa_present[otu.columns.values]\n",
    "    inverse_freq_mat = occurrence.div(taxa_present_use, axis = 1)\n",
    "    df = pd.DataFrame(np.dot(inverse_freq_mat, qual_vecs_use), index = otu.index.values)\n",
    "    return(df)\n",
    "\n",
    "otu_tmp = log_normalize(otu_ml)\n",
    "taxa_abundance = otu_tmp.sum(axis = 0) #total count of each taxa\n",
    "\n",
    "def embed_count_frequency(otu, qual_vecs):\n",
    "    qual_vecs_use = qual_vecs.loc[list(otu.columns.values)]\n",
    "    occurrence = log_normalize(otu)\n",
    "    taxa_abundance_use = taxa_abundance[otu.columns.values]\n",
    "    inverse_freq_mat = occurrence.div(taxa_abundance_use, axis = 1)\n",
    "    df = pd.DataFrame(np.dot(inverse_freq_mat, qual_vecs_use), index = otu.index.values)\n",
    "    return(df)\n",
    "\n",
    "def embed(otu, qual_vecs):\n",
    "    qual_vecs_use = qual_vecs.loc[list(otu.columns.values)]\n",
    "    df = pd.DataFrame(np.dot(log_normalize(otu), qual_vecs_use), index = otu.index.values)\n",
    "    return(df)"
   ]
  },
  {
   "cell_type": "code",
   "execution_count": 51,
   "metadata": {},
   "outputs": [
    {
     "name": "stdout",
     "output_type": "stream",
     "text": [
      "(5525, 213)\n",
      "(5525, 17)\n"
     ]
    }
   ],
   "source": [
    "print(otu_ml.shape)\n",
    "print(map_train.shape)"
   ]
  },
  {
   "cell_type": "code",
   "execution_count": null,
   "metadata": {},
   "outputs": [],
   "source": [
    "#Create input for ML alg including otu abundances and metadata\n",
    "y_train = [float(i) for i in map_train_correct[\"BMI\"]]\n",
    "y_test = [float(i) for i in map_test_correct[\"BMI\"]]\n",
    "map_train_correct = map_train_correct.drop([\"BMI\", \"BODY_SITE\"], axis = 1)\n",
    "map_test_correct = map_test_correct.drop([\"BMI\", \"BODY_SITE\"], axis = 1)"
   ]
  },
  {
   "cell_type": "code",
   "execution_count": 60,
   "metadata": {},
   "outputs": [],
   "source": [
    "\n",
    "np.sum([i == j for (i,j) in zip(otu_ml.index.values, map_train.index.values)])\n",
    "input_ml_train = pd.concat([log_normalize(otu_ml), map_train_correct], axis = 1)\n",
    "input_ml_test = pd.concat([log_normalize(otu_ml_test), map_test_correct], axis = 1)\n",
    "\n",
    "input_ml_emb_train = pd.concat([embed(otu_ml, qual_vecs), map_train_correct], axis = 1)\n",
    "input_ml_emb_test = pd.concat([embed(otu_ml_test, qual_vecs), map_test_correct], axis = 1)\n",
    "\n",
    "input_ml_embfreq_train = pd.concat([embed_frequency(otu_ml, qual_vecs), map_train_correct], axis = 1)\n",
    "input_ml_embfreq_test = pd.concat([embed_frequency(otu_ml_test, qual_vecs), map_test_correct], axis = 1)\n",
    "\n",
    "input_ml_embcountfreq_train = pd.concat([embed_count_frequency(otu_ml, qual_vecs), map_train_correct], axis = 1)\n",
    "input_ml_embcountfreq_test = pd.concat([embed_count_frequency(otu_ml_test, qual_vecs), map_test_correct], axis = 1)\n"
   ]
  },
  {
   "cell_type": "code",
   "execution_count": 61,
   "metadata": {},
   "outputs": [],
   "source": [
    "y_test = [float(i) for i in y_test]\n",
    "y_train = [float(i) for i in y_train]"
   ]
  },
  {
   "cell_type": "code",
   "execution_count": 56,
   "metadata": {},
   "outputs": [
    {
     "name": "stdout",
     "output_type": "stream",
     "text": [
      "(5525, 213)\n",
      "(893, 213)\n",
      "5525\n",
      "893\n"
     ]
    }
   ],
   "source": [
    "print(otu_ml.shape)\n",
    "print(otu_ml_test.shape)\n",
    "print(len(y_train))\n",
    "print(len(y_test))"
   ]
  },
  {
   "cell_type": "code",
   "execution_count": 57,
   "metadata": {},
   "outputs": [
    {
     "name": "stdout",
     "output_type": "stream",
     "text": [
      "71.61\n",
      "Slope: 1.4802650699408597\n",
      "R value: 0.35834793920986224\n",
      "Linear Error3.505126614720091   MSE: 27.478350221274837\n"
     ]
    },
    {
     "data": {
      "text/plain": [
       "(SVR(C=1.0, cache_size=200, coef0=0.0, degree=3, epsilon=0.1, gamma='scale',\n",
       "   kernel='rbf', max_iter=-1, shrinking=True, tol=0.001, verbose=False),\n",
       " 3.505126614720091,\n",
       " 27.478350221274837)"
      ]
     },
     "execution_count": 57,
     "metadata": {},
     "output_type": "execute_result"
    },
    {
     "data": {
      "image/png": "[encoded data removed]",
      "text/plain": [
       "<Figure size 432x288 with 1 Axes>"
      ]
     },
     "metadata": {},
     "output_type": "display_data"
    }
   ],
   "source": [
    "hf.testModel(preprocessing.scale(log_normalize(otu_ml)), y_train,\n",
    "            preprocessing.scale(log_normalize(otu_ml_test)), y_test,\n",
    "            model = \"svm\", title = \"No Embedding\")"
   ]
  },
  {
   "cell_type": "code",
   "execution_count": 62,
   "metadata": {},
   "outputs": [
    {
     "name": "stderr",
     "output_type": "stream",
     "text": [
      "C:\\Users\\ctata\\Miniconda3\\envs\\tensorflow\\lib\\site-packages\\ipykernel_launcher.py:5: DataConversionWarning: Data with input dtype int64, float64 were all converted to float64 by the scale function.\n",
      "  \"\"\"\n",
      "C:\\Users\\ctata\\Miniconda3\\envs\\tensorflow\\lib\\site-packages\\ipykernel_launcher.py:6: DataConversionWarning: Data with input dtype int64, float64 were all converted to float64 by the scale function.\n",
      "  \n"
     ]
    },
    {
     "name": "stdout",
     "output_type": "stream",
     "text": [
      "71.61\n",
      "Slope: 1.0749067843901896\n",
      "R value: 0.45461189212862374\n",
      "Linear Error3.2422169774543903   MSE: 24.703381445058266\n"
     ]
    },
    {
     "name": "stderr",
     "output_type": "stream",
     "text": [
      "C:\\Users\\ctata\\Miniconda3\\envs\\tensorflow\\lib\\site-packages\\ipykernel_launcher.py:11: DataConversionWarning: Data with input dtype int64, float64 were all converted to float64 by the scale function.\n",
      "  # This is added back by InteractiveShellApp.init_path()\n",
      "C:\\Users\\ctata\\Miniconda3\\envs\\tensorflow\\lib\\site-packages\\ipykernel_launcher.py:12: DataConversionWarning: Data with input dtype int64, float64 were all converted to float64 by the scale function.\n",
      "  if sys.path[0] == '':\n"
     ]
    },
    {
     "name": "stdout",
     "output_type": "stream",
     "text": [
      "71.61\n",
      "Slope: 1.0152570361199025\n",
      "R value: 0.4430673214860718\n",
      "Linear Error3.2968102532481587   MSE: 25.06036550587694\n"
     ]
    },
    {
     "name": "stderr",
     "output_type": "stream",
     "text": [
      "C:\\Users\\ctata\\Miniconda3\\envs\\tensorflow\\lib\\site-packages\\ipykernel_launcher.py:16: DataConversionWarning: Data with input dtype int64, float64, object were all converted to float64 by the scale function.\n",
      "  app.launch_new_instance()\n",
      "C:\\Users\\ctata\\Miniconda3\\envs\\tensorflow\\lib\\site-packages\\ipykernel_launcher.py:17: DataConversionWarning: Data with input dtype int64, float64, object were all converted to float64 by the scale function.\n"
     ]
    },
    {
     "name": "stdout",
     "output_type": "stream",
     "text": [
      "71.61\n",
      "Slope: 0.8586663403236617\n",
      "R value: 0.38946946396304194\n",
      "Linear Error3.4033682115018955   MSE: 26.62489363369787\n"
     ]
    },
    {
     "name": "stderr",
     "output_type": "stream",
     "text": [
      "C:\\Users\\ctata\\Miniconda3\\envs\\tensorflow\\lib\\site-packages\\ipykernel_launcher.py:21: DataConversionWarning: Data with input dtype int64, float64 were all converted to float64 by the scale function.\n",
      "C:\\Users\\ctata\\Miniconda3\\envs\\tensorflow\\lib\\site-packages\\ipykernel_launcher.py:22: DataConversionWarning: Data with input dtype int64, float64 were all converted to float64 by the scale function.\n"
     ]
    },
    {
     "name": "stdout",
     "output_type": "stream",
     "text": [
      "71.61\n",
      "Slope: 0.7812697287611314\n",
      "R value: 0.3861551349130627\n",
      "Linear Error3.3721642338519437   MSE: 26.99480345699779\n"
     ]
    },
    {
     "data": {
      "text/plain": [
       "(RandomForestRegressor(bootstrap=True, criterion='mse', max_depth=12,\n",
       "            max_features='auto', max_leaf_nodes=None,\n",
       "            min_impurity_decrease=0.0, min_impurity_split=None,\n",
       "            min_samples_leaf=1, min_samples_split=2,\n",
       "            min_weight_fraction_leaf=0.0, n_estimators=140, n_jobs=None,\n",
       "            oob_score=False, random_state=0, verbose=0, warm_start=False),\n",
       " 3.3721642338519437,\n",
       " 26.99480345699779)"
      ]
     },
     "execution_count": 62,
     "metadata": {},
     "output_type": "execute_result"
    },
    {
     "data": {
      "image/png": "[encoded data removed]",
      "text/plain": [
       "<Figure size 1080x360 with 4 Axes>"
      ]
     },
     "metadata": {},
     "output_type": "display_data"
    }
   ],
   "source": [
    "#This is useless until you update the embeddings for just feces\n",
    "plt.figure(figsize=(15, 5))\n",
    "plt.subplot(1, 4, 1)\n",
    "\n",
    "hf.testModel(preprocessing.scale(input_ml_train), y_train,\n",
    "             preprocessing.scale(input_ml_test), y_test,\n",
    "              model = \"rf\", title = \"No Embedding\")\n",
    "\n",
    "\n",
    "plt.subplot( 1, 4, 2)\n",
    "hf.testModel(preprocessing.scale(input_ml_emb_train), y_train,\n",
    "             preprocessing.scale(input_ml_emb_test), y_test,\n",
    "              model = \"rf\", title = \"Average Abundance Weighting\")\n",
    "\n",
    "plt.subplot( 1, 4, 3)\n",
    "hf.testModel(preprocessing.scale(input_ml_embfreq_train), y_train,\n",
    "             preprocessing.scale(input_ml_embfreq_test), y_test,\n",
    "              model = \"rf\", title = \"Inverse Frequency Weighting\")\n",
    "\n",
    "plt.subplot( 1, 4, 4)\n",
    "hf.testModel(preprocessing.scale(input_ml_embcountfreq_train), y_train,\n",
    "             preprocessing.scale(input_ml_embcountfreq_test), y_test,\n",
    "              model = \"rf\", title = \"Inverse Frequency Weighting\")\n",
    "\n"
   ]
  },
  {
   "cell_type": "code",
   "execution_count": 164,
   "metadata": {},
   "outputs": [
    {
     "name": "stderr",
     "output_type": "stream",
     "text": [
      "C:\\Users\\ctata\\Miniconda3\\envs\\tensorflow\\lib\\site-packages\\ipykernel_launcher.py:3: DataConversionWarning: Data with input dtype int64, float64 were all converted to float64 by the scale function.\n",
      "  This is separate from the ipykernel package so we can avoid doing imports until\n",
      "C:\\Users\\ctata\\Miniconda3\\envs\\tensorflow\\lib\\site-packages\\ipykernel_launcher.py:4: DataConversionWarning: Data with input dtype int64, float64 were all converted to float64 by the scale function.\n",
      "  after removing the cwd from sys.path.\n"
     ]
    },
    {
     "name": "stdout",
     "output_type": "stream",
     "text": [
      "76.89\n",
      "Slope: 1.107301116846391\n",
      "R value: 0.46591065562261647\n",
      "Linear Error3.1835853578376243   MSE: 27.08957272212684\n"
     ]
    },
    {
     "name": "stderr",
     "output_type": "stream",
     "text": [
      "C:\\Users\\ctata\\Miniconda3\\envs\\tensorflow\\lib\\site-packages\\ipykernel_launcher.py:7: DataConversionWarning: Data with input dtype int64, float64 were all converted to float64 by the scale function.\n",
      "  import sys\n",
      "C:\\Users\\ctata\\Miniconda3\\envs\\tensorflow\\lib\\site-packages\\ipykernel_launcher.py:8: DataConversionWarning: Data with input dtype int64, float64 were all converted to float64 by the scale function.\n",
      "  \n"
     ]
    },
    {
     "name": "stdout",
     "output_type": "stream",
     "text": [
      "76.89\n",
      "Slope: 1.0652169818090902\n",
      "R value: 0.42640199138538054\n",
      "Linear Error3.288568023678152   MSE: 28.284928141608322\n"
     ]
    },
    {
     "data": {
      "text/plain": [
       "(3.288568023678152, 28.284928141608322)"
      ]
     },
     "execution_count": 164,
     "metadata": {},
     "output_type": "execute_result"
    },
    {
     "data": {
      "image/png": "[encoded data removed]",
      "text/plain": [
       "<Figure size 1080x360 with 2 Axes>"
      ]
     },
     "metadata": {},
     "output_type": "display_data"
    }
   ],
   "source": [
    "\n",
    "testModelClass(preprocessing.scale(input_ml_embfreq_train), y_train,\n",
    "             preprocessing.scale(input_ml_embfreq_test), y_test,\n",
    "              model = \"rf\", title = \"Inverse abundance Weighting\")\n",
    "\n",
    "\n",
    "plt.subplot( 1, 2, 2)\n",
    "testModelClass(preprocessing.scale(input_ml_embfreq_train), y_train,\n",
    "             preprocessing.scale(input_ml_embfreq_test), y_test,\n",
    "              model = \"rf\", title = \"Inverse abundance Weighting\")"
   ]
  },
  {
   "cell_type": "code",
   "execution_count": 33,
   "metadata": {},
   "outputs": [
    {
     "name": "stdout",
     "output_type": "stream",
     "text": [
      "76.89\n",
      "Slope: 1.0331972966734908\n",
      "R value: 0.06574774135152364\n",
      "Linear Error3.864635123139554   MSE: 34.981868659618115\n",
      "76.89\n",
      "Slope: 0.923389911520611\n",
      "R value: 0.041642494260796005\n",
      "Linear Error3.8585681773070166   MSE: 35.097798837249655\n"
     ]
    },
    {
     "data": {
      "text/plain": [
       "(3.8585681773070166, 35.097798837249655)"
      ]
     },
     "execution_count": 33,
     "metadata": {},
     "output_type": "execute_result"
    },
    {
     "data": {
      "image/png": "[encoded data removed]",
      "text/plain": [
       "<Figure size 1080x360 with 2 Axes>"
      ]
     },
     "metadata": {},
     "output_type": "display_data"
    }
   ],
   "source": [
    "plt.figure(figsize=(15, 5))\n",
    "plt.subplot(1, 2, 1)\n",
    "hf.testModel(preprocessing.scale(otu_rand), y_train, \n",
    "             preprocessing.scale(otu_rand_test), y_test, model = \"svm\", title = \"Rand features\")\n",
    "\n",
    "plt.subplot(1, 2, 2)\n",
    "hf.testModel(preprocessing.scale(hf.embed(otu_rand, qual_vecs)), y_train, \n",
    "             preprocessing.scale(hf.embed(otu_rand_test, qual_vecs)), y_test, model = \"svm\", title = \"Rand features Embedded\")"
   ]
  },
  {
   "cell_type": "code",
   "execution_count": 66,
   "metadata": {},
   "outputs": [
    {
     "data": {
      "text/plain": [
       "(5525, 6079)"
      ]
     },
     "execution_count": 66,
     "metadata": {},
     "output_type": "execute_result"
    }
   ],
   "source": [
    "otu_train.shape"
   ]
  },
  {
   "cell_type": "code",
   "execution_count": 68,
   "metadata": {},
   "outputs": [
    {
     "data": {
      "text/plain": [
       "6079"
      ]
     },
     "execution_count": 68,
     "metadata": {},
     "output_type": "execute_result"
    }
   ],
   "source": [
    "include = otu_train.columns.values\n",
    "records = []\n",
    "from Bio import SeqIO\n",
    "i = 0\n",
    "for record in SeqIO.parse(\"data/greengenes/gg_13_8_otus/rep_set/97_otus.fasta\", \"fasta\"):\n",
    "    if int(record.id) in include:\n",
    "        records.append(SeqIO.SeqRecord(record.seq, \"seq\" + str(record.id), description = \"\"))\n",
    "\n",
    "SeqIO.write(records, \"data/AG_new/repseqs_otutrain.fasta\", \"fasta\")"
   ]
  },
  {
   "cell_type": "code",
   "execution_count": null,
   "metadata": {},
   "outputs": [],
   "source": [
    "#Get representative sequences for relevant taxa\n",
    "\n",
    "for i in range(round(otu_train.shape[0])):\n",
    "    start = 500 * i\n",
    "    end = start + 500\n",
    "    print(str(start) + \"-\" + str(end))\n",
    "    if end > otu_train.shape[0]:\n",
    "        end = otu_train.shape[0] - 1\n",
    "        \n",
    "    sample_range = range(start, end)\n",
    "    otu_tmp = otu_train.iloc[sample_range, :]\n",
    "    index = [\"sample\" + str(i) for i in range(otu_tmp.shape[0])]\n",
    "    include = set(otu_tmp.columns.values)\n",
    "    otu_tmp = pd.DataFrame(otu_tmp.values, index = index, columns =['seq' + str(i) for i in otu_tmp.columns.values])\n",
    "\n",
    "    otu_tmp = otu_tmp.T\n",
    "    f = open(\"data/AG_new/otu_\" + str(end) + \".csv\", \"w\")\n",
    "    otu_tmp.to_csv(f, columns = otu_tmp.columns.values, index_label = \"OTU\")\n",
    "    f.close()\n",
    "    \n",
    "    \n",
    "    records = []\n",
    "    from Bio import SeqIO\n",
    "    i = 0\n",
    "    for record in SeqIO.parse(\"data/greengenes/gg_13_8_otus/rep_set/97_otus.fasta\", \"fasta\"):\n",
    "        if int(record.id) in include:\n",
    "            records.append(SeqIO.SeqRecord(record.seq, \"seq\" + str(record.id), description = \"\"))\n",
    "\n",
    "    SeqIO.write(records, \"data/AG_new/repseqs_\" + str(end) + \".fasta\", \"fasta\")"
   ]
  }
 ],
 "metadata": {
  "kernelspec": {
   "display_name": "Python 3",
   "language": "python",
   "name": "python3"
  },
  "language_info": {
   "codemirror_mode": {
    "name": "ipython",
    "version": 3
   },
   "file_extension": ".py",
   "mimetype": "text/x-python",
   "name": "python",
   "nbconvert_exporter": "python",
   "pygments_lexer": "ipython3",
   "version": "3.5.5"
  }
 },
 "nbformat": 4,
 "nbformat_minor": 2
}
